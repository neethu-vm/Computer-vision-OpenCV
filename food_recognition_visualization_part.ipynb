{
  "nbformat": 4,
  "nbformat_minor": 0,
  "metadata": {
    "accelerator": "GPU",
    "colab": {
      "name": "food recognition  visualization part.ipynb",
      "provenance": [],
      "collapsed_sections": [],
      "include_colab_link": true
    },
    "kernelspec": {
      "display_name": "Python 3",
      "name": "python3"
    },
    "language_info": {
      "name": "python"
    }
  },
  "cells": [
    {
      "cell_type": "markdown",
      "metadata": {
        "id": "view-in-github",
        "colab_type": "text"
      },
      "source": [
        "<a href=\"https://colab.research.google.com/github/neethu-vm/Computer-vision-OpenCV/blob/main/food_recognition_visualization_part.ipynb\" target=\"_parent\"><img src=\"https://colab.research.google.com/assets/colab-badge.svg\" alt=\"Open In Colab\"/></a>"
      ]
    },
    {
      "cell_type": "code",
      "metadata": {
        "colab": {
          "base_uri": "https://localhost:8080/"
        },
        "id": "srQ4VQ5-q6ib",
        "outputId": "4cb9d84a-05c0-484d-e79c-091fb9396d3b"
      },
      "source": [
        "from google.colab import drive\n",
        "drive.mount('/content/drive')"
      ],
      "execution_count": null,
      "outputs": [
        {
          "output_type": "stream",
          "text": [
            "Mounted at /content/drive\n"
          ],
          "name": "stdout"
        }
      ]
    },
    {
      "cell_type": "code",
      "metadata": {
        "colab": {
          "base_uri": "https://localhost:8080/",
          "height": 1000
        },
        "id": "aLNVFbsQW50y",
        "outputId": "83a53b03-6bc8-45ac-986d-4274adfe939d"
      },
      "source": [
        "!pip install pyyaml==5.3\n",
        "# workaround: install old version of pytorch since detectron2 hasn't released packages for pytorch 1.9 (issue: https://github.com/facebookresearch/detectron2/issues/3158)\n",
        "!pip install torch==1.8.0+cu101 torchvision==0.9.0+cu101 -f https://download.pytorch.org/whl/torch_stable.html\n",
        "#!pip3 install torch==1.2.0+cu92 torchvision==0.4.0+cu92 -f https://download.pytorch.org/whl/torch_stable.html\n",
        "# check pytorch installation: \n",
        "import torch, torchvision\n",
        "print(torch.__version__, torch.cuda.is_available())\n",
        "assert torch.__version__.startswith(\"1.8\") \n",
        "\n",
        "# install detectron2 that matches pytorch 1.8\n",
        "# See https://detectron2.readthedocs.io/tutorials/install.html for instructions\n",
        "!pip install detectron2 -f \\https://dl.fbaipublicfiles.com/detectron2/wheels/cu101/torch1.8/index.html\n",
        "# exit(0)  # After installation, you need to \"restart runtime\" in Colab. This line can also restart runtime"
      ],
      "execution_count": null,
      "outputs": [
        {
          "output_type": "stream",
          "text": [
            "Collecting pyyaml==5.3\n",
            "  Downloading PyYAML-5.3.tar.gz (268 kB)\n",
            "\u001b[?25l\r\u001b[K     |█▏                              | 10 kB 38.3 MB/s eta 0:00:01\r\u001b[K     |██▍                             | 20 kB 32.5 MB/s eta 0:00:01\r\u001b[K     |███▋                            | 30 kB 19.5 MB/s eta 0:00:01\r\u001b[K     |████▉                           | 40 kB 16.2 MB/s eta 0:00:01\r\u001b[K     |██████                          | 51 kB 8.6 MB/s eta 0:00:01\r\u001b[K     |███████▎                        | 61 kB 8.7 MB/s eta 0:00:01\r\u001b[K     |████████▌                       | 71 kB 8.1 MB/s eta 0:00:01\r\u001b[K     |█████████▊                      | 81 kB 9.1 MB/s eta 0:00:01\r\u001b[K     |███████████                     | 92 kB 9.5 MB/s eta 0:00:01\r\u001b[K     |████████████▏                   | 102 kB 8.2 MB/s eta 0:00:01\r\u001b[K     |█████████████▍                  | 112 kB 8.2 MB/s eta 0:00:01\r\u001b[K     |██████████████▋                 | 122 kB 8.2 MB/s eta 0:00:01\r\u001b[K     |███████████████▉                | 133 kB 8.2 MB/s eta 0:00:01\r\u001b[K     |█████████████████               | 143 kB 8.2 MB/s eta 0:00:01\r\u001b[K     |██████████████████▎             | 153 kB 8.2 MB/s eta 0:00:01\r\u001b[K     |███████████████████▌            | 163 kB 8.2 MB/s eta 0:00:01\r\u001b[K     |████████████████████▊           | 174 kB 8.2 MB/s eta 0:00:01\r\u001b[K     |██████████████████████          | 184 kB 8.2 MB/s eta 0:00:01\r\u001b[K     |███████████████████████▏        | 194 kB 8.2 MB/s eta 0:00:01\r\u001b[K     |████████████████████████▍       | 204 kB 8.2 MB/s eta 0:00:01\r\u001b[K     |█████████████████████████▋      | 215 kB 8.2 MB/s eta 0:00:01\r\u001b[K     |██████████████████████████▉     | 225 kB 8.2 MB/s eta 0:00:01\r\u001b[K     |████████████████████████████    | 235 kB 8.2 MB/s eta 0:00:01\r\u001b[K     |█████████████████████████████▎  | 245 kB 8.2 MB/s eta 0:00:01\r\u001b[K     |██████████████████████████████▌ | 256 kB 8.2 MB/s eta 0:00:01\r\u001b[K     |███████████████████████████████▊| 266 kB 8.2 MB/s eta 0:00:01\r\u001b[K     |████████████████████████████████| 268 kB 8.2 MB/s \n",
            "\u001b[?25hBuilding wheels for collected packages: pyyaml\n",
            "  Building wheel for pyyaml (setup.py) ... \u001b[?25l\u001b[?25hdone\n",
            "  Created wheel for pyyaml: filename=PyYAML-5.3-cp37-cp37m-linux_x86_64.whl size=44244 sha256=2ef9446ed27c6676ef14dcb9bd5ed17954987c788d576f61e0bd4fca9612d319\n",
            "  Stored in directory: /root/.cache/pip/wheels/8a/55/a4/c0a81d27c33462cfdcb904db018f5550197e88b2b6b85beed2\n",
            "Successfully built pyyaml\n",
            "Installing collected packages: pyyaml\n",
            "  Attempting uninstall: pyyaml\n",
            "    Found existing installation: PyYAML 3.13\n",
            "    Uninstalling PyYAML-3.13:\n",
            "      Successfully uninstalled PyYAML-3.13\n",
            "Successfully installed pyyaml-5.3\n",
            "Looking in links: https://download.pytorch.org/whl/torch_stable.html\n",
            "Collecting torch==1.8.0+cu101\n",
            "  Downloading https://download.pytorch.org/whl/cu101/torch-1.8.0%2Bcu101-cp37-cp37m-linux_x86_64.whl (763.5 MB)\n",
            "\u001b[K     |████████████████████████████████| 763.5 MB 15 kB/s \n",
            "\u001b[33mWARNING: Retrying (Retry(total=4, connect=None, read=None, redirect=None, status=None)) after connection broken by 'ProtocolError('Connection aborted.', ConnectionResetError(104, 'Connection reset by peer'))': /simple/torchvision/\u001b[0m\n",
            "\u001b[?25hCollecting torchvision==0.9.0+cu101\n",
            "  Downloading https://download.pytorch.org/whl/cu101/torchvision-0.9.0%2Bcu101-cp37-cp37m-linux_x86_64.whl (17.3 MB)\n",
            "\u001b[K     |████████████████████████████████| 17.3 MB 177 kB/s \n",
            "\u001b[?25hRequirement already satisfied: typing-extensions in /usr/local/lib/python3.7/dist-packages (from torch==1.8.0+cu101) (3.7.4.3)\n",
            "Requirement already satisfied: numpy in /usr/local/lib/python3.7/dist-packages (from torch==1.8.0+cu101) (1.19.5)\n",
            "Requirement already satisfied: pillow>=4.1.1 in /usr/local/lib/python3.7/dist-packages (from torchvision==0.9.0+cu101) (7.1.2)\n",
            "Installing collected packages: torch, torchvision\n",
            "  Attempting uninstall: torch\n",
            "    Found existing installation: torch 1.9.0+cu102\n",
            "    Uninstalling torch-1.9.0+cu102:\n",
            "      Successfully uninstalled torch-1.9.0+cu102\n",
            "  Attempting uninstall: torchvision\n",
            "    Found existing installation: torchvision 0.10.0+cu102\n",
            "    Uninstalling torchvision-0.10.0+cu102:\n",
            "      Successfully uninstalled torchvision-0.10.0+cu102\n",
            "\u001b[31mERROR: pip's dependency resolver does not currently take into account all the packages that are installed. This behaviour is the source of the following dependency conflicts.\n",
            "torchtext 0.10.0 requires torch==1.9.0, but you have torch 1.8.0+cu101 which is incompatible.\u001b[0m\n",
            "Successfully installed torch-1.8.0+cu101 torchvision-0.9.0+cu101\n",
            "1.8.0+cu101 True\n",
            "Looking in links: https://dl.fbaipublicfiles.com/detectron2/wheels/cu101/torch1.8/index.html\n",
            "Collecting detectron2\n",
            "  Downloading https://dl.fbaipublicfiles.com/detectron2/wheels/cu101/torch1.8/detectron2-0.5%2Bcu101-cp37-cp37m-linux_x86_64.whl (6.3 MB)\n",
            "\u001b[K     |████████████████████████████████| 6.3 MB 1.7 MB/s \n",
            "\u001b[?25hRequirement already satisfied: tqdm>4.29.0 in /usr/local/lib/python3.7/dist-packages (from detectron2) (4.62.0)\n",
            "Requirement already satisfied: future in /usr/local/lib/python3.7/dist-packages (from detectron2) (0.16.0)\n",
            "Requirement already satisfied: tensorboard in /usr/local/lib/python3.7/dist-packages (from detectron2) (2.5.0)\n",
            "Collecting omegaconf>=2.1\n",
            "  Downloading omegaconf-2.1.0-py3-none-any.whl (74 kB)\n",
            "\u001b[K     |████████████████████████████████| 74 kB 3.1 MB/s \n",
            "\u001b[?25hRequirement already satisfied: Pillow>=7.1 in /usr/local/lib/python3.7/dist-packages (from detectron2) (7.1.2)\n",
            "Requirement already satisfied: pydot in /usr/local/lib/python3.7/dist-packages (from detectron2) (1.3.0)\n",
            "Collecting black==21.4b2\n",
            "  Downloading black-21.4b2-py3-none-any.whl (130 kB)\n",
            "\u001b[K     |████████████████████████████████| 130 kB 69.0 MB/s \n",
            "\u001b[?25hCollecting hydra-core>=1.1\n",
            "  Downloading hydra_core-1.1.0-py3-none-any.whl (144 kB)\n",
            "\u001b[K     |████████████████████████████████| 144 kB 71.2 MB/s \n",
            "\u001b[?25hRequirement already satisfied: tabulate in /usr/local/lib/python3.7/dist-packages (from detectron2) (0.8.9)\n",
            "Requirement already satisfied: matplotlib in /usr/local/lib/python3.7/dist-packages (from detectron2) (3.2.2)\n",
            "Collecting yacs>=0.1.6\n",
            "  Downloading yacs-0.1.8-py3-none-any.whl (14 kB)\n",
            "Collecting iopath<0.1.9,>=0.1.7\n",
            "  Downloading iopath-0.1.8-py3-none-any.whl (19 kB)\n",
            "Collecting fvcore<0.1.6,>=0.1.5\n",
            "  Downloading fvcore-0.1.5.post20210812.tar.gz (49 kB)\n",
            "\u001b[K     |████████████████████████████████| 49 kB 6.2 MB/s \n",
            "\u001b[?25hRequirement already satisfied: termcolor>=1.1 in /usr/local/lib/python3.7/dist-packages (from detectron2) (1.1.0)\n",
            "Requirement already satisfied: pycocotools>=2.0.2 in /usr/local/lib/python3.7/dist-packages (from detectron2) (2.0.2)\n",
            "Requirement already satisfied: cloudpickle in /usr/local/lib/python3.7/dist-packages (from detectron2) (1.3.0)\n",
            "Collecting typed-ast>=1.4.2\n",
            "  Downloading typed_ast-1.4.3-cp37-cp37m-manylinux1_x86_64.whl (743 kB)\n",
            "\u001b[K     |████████████████████████████████| 743 kB 56.1 MB/s \n",
            "\u001b[?25hRequirement already satisfied: toml>=0.10.1 in /usr/local/lib/python3.7/dist-packages (from black==21.4b2->detectron2) (0.10.2)\n",
            "Collecting pathspec<1,>=0.8.1\n",
            "  Downloading pathspec-0.9.0-py2.py3-none-any.whl (31 kB)\n",
            "Requirement already satisfied: click>=7.1.2 in /usr/local/lib/python3.7/dist-packages (from black==21.4b2->detectron2) (7.1.2)\n",
            "Collecting mypy-extensions>=0.4.3\n",
            "  Downloading mypy_extensions-0.4.3-py2.py3-none-any.whl (4.5 kB)\n",
            "Requirement already satisfied: typing-extensions>=3.7.4 in /usr/local/lib/python3.7/dist-packages (from black==21.4b2->detectron2) (3.7.4.3)\n",
            "Requirement already satisfied: appdirs in /usr/local/lib/python3.7/dist-packages (from black==21.4b2->detectron2) (1.4.4)\n",
            "Collecting regex>=2020.1.8\n",
            "  Downloading regex-2021.8.3-cp37-cp37m-manylinux_2_17_x86_64.manylinux2014_x86_64.whl (722 kB)\n",
            "\u001b[K     |████████████████████████████████| 722 kB 58.1 MB/s \n",
            "\u001b[?25hRequirement already satisfied: numpy in /usr/local/lib/python3.7/dist-packages (from fvcore<0.1.6,>=0.1.5->detectron2) (1.19.5)\n",
            "Requirement already satisfied: pyyaml>=5.1 in /usr/local/lib/python3.7/dist-packages (from fvcore<0.1.6,>=0.1.5->detectron2) (5.3)\n",
            "Collecting antlr4-python3-runtime==4.8\n",
            "  Downloading antlr4-python3-runtime-4.8.tar.gz (112 kB)\n",
            "\u001b[K     |████████████████████████████████| 112 kB 76.0 MB/s \n",
            "\u001b[?25hRequirement already satisfied: importlib-resources in /usr/local/lib/python3.7/dist-packages (from hydra-core>=1.1->detectron2) (5.2.2)\n",
            "Collecting portalocker\n",
            "  Downloading portalocker-2.3.0-py2.py3-none-any.whl (15 kB)\n",
            "Requirement already satisfied: cython>=0.27.3 in /usr/local/lib/python3.7/dist-packages (from pycocotools>=2.0.2->detectron2) (0.29.24)\n",
            "Requirement already satisfied: setuptools>=18.0 in /usr/local/lib/python3.7/dist-packages (from pycocotools>=2.0.2->detectron2) (57.4.0)\n",
            "Requirement already satisfied: pyparsing!=2.0.4,!=2.1.2,!=2.1.6,>=2.0.1 in /usr/local/lib/python3.7/dist-packages (from matplotlib->detectron2) (2.4.7)\n",
            "Requirement already satisfied: python-dateutil>=2.1 in /usr/local/lib/python3.7/dist-packages (from matplotlib->detectron2) (2.8.2)\n",
            "Requirement already satisfied: cycler>=0.10 in /usr/local/lib/python3.7/dist-packages (from matplotlib->detectron2) (0.10.0)\n",
            "Requirement already satisfied: kiwisolver>=1.0.1 in /usr/local/lib/python3.7/dist-packages (from matplotlib->detectron2) (1.3.1)\n",
            "Requirement already satisfied: six in /usr/local/lib/python3.7/dist-packages (from cycler>=0.10->matplotlib->detectron2) (1.15.0)\n",
            "Requirement already satisfied: zipp>=3.1.0 in /usr/local/lib/python3.7/dist-packages (from importlib-resources->hydra-core>=1.1->detectron2) (3.5.0)\n",
            "Requirement already satisfied: tensorboard-plugin-wit>=1.6.0 in /usr/local/lib/python3.7/dist-packages (from tensorboard->detectron2) (1.8.0)\n",
            "Requirement already satisfied: requests<3,>=2.21.0 in /usr/local/lib/python3.7/dist-packages (from tensorboard->detectron2) (2.23.0)\n",
            "Requirement already satisfied: grpcio>=1.24.3 in /usr/local/lib/python3.7/dist-packages (from tensorboard->detectron2) (1.34.1)\n",
            "Requirement already satisfied: absl-py>=0.4 in /usr/local/lib/python3.7/dist-packages (from tensorboard->detectron2) (0.12.0)\n",
            "Requirement already satisfied: markdown>=2.6.8 in /usr/local/lib/python3.7/dist-packages (from tensorboard->detectron2) (3.3.4)\n",
            "Requirement already satisfied: protobuf>=3.6.0 in /usr/local/lib/python3.7/dist-packages (from tensorboard->detectron2) (3.17.3)\n",
            "Requirement already satisfied: google-auth<2,>=1.6.3 in /usr/local/lib/python3.7/dist-packages (from tensorboard->detectron2) (1.34.0)\n",
            "Requirement already satisfied: google-auth-oauthlib<0.5,>=0.4.1 in /usr/local/lib/python3.7/dist-packages (from tensorboard->detectron2) (0.4.5)\n",
            "Requirement already satisfied: tensorboard-data-server<0.7.0,>=0.6.0 in /usr/local/lib/python3.7/dist-packages (from tensorboard->detectron2) (0.6.1)\n",
            "Requirement already satisfied: wheel>=0.26 in /usr/local/lib/python3.7/dist-packages (from tensorboard->detectron2) (0.37.0)\n",
            "Requirement already satisfied: werkzeug>=0.11.15 in /usr/local/lib/python3.7/dist-packages (from tensorboard->detectron2) (1.0.1)\n",
            "Requirement already satisfied: pyasn1-modules>=0.2.1 in /usr/local/lib/python3.7/dist-packages (from google-auth<2,>=1.6.3->tensorboard->detectron2) (0.2.8)\n",
            "Requirement already satisfied: cachetools<5.0,>=2.0.0 in /usr/local/lib/python3.7/dist-packages (from google-auth<2,>=1.6.3->tensorboard->detectron2) (4.2.2)\n",
            "Requirement already satisfied: rsa<5,>=3.1.4 in /usr/local/lib/python3.7/dist-packages (from google-auth<2,>=1.6.3->tensorboard->detectron2) (4.7.2)\n",
            "Requirement already satisfied: requests-oauthlib>=0.7.0 in /usr/local/lib/python3.7/dist-packages (from google-auth-oauthlib<0.5,>=0.4.1->tensorboard->detectron2) (1.3.0)\n",
            "Requirement already satisfied: importlib-metadata in /usr/local/lib/python3.7/dist-packages (from markdown>=2.6.8->tensorboard->detectron2) (4.6.3)\n",
            "Requirement already satisfied: pyasn1<0.5.0,>=0.4.6 in /usr/local/lib/python3.7/dist-packages (from pyasn1-modules>=0.2.1->google-auth<2,>=1.6.3->tensorboard->detectron2) (0.4.8)\n",
            "Requirement already satisfied: certifi>=2017.4.17 in /usr/local/lib/python3.7/dist-packages (from requests<3,>=2.21.0->tensorboard->detectron2) (2021.5.30)\n",
            "Requirement already satisfied: idna<3,>=2.5 in /usr/local/lib/python3.7/dist-packages (from requests<3,>=2.21.0->tensorboard->detectron2) (2.10)\n",
            "Requirement already satisfied: chardet<4,>=3.0.2 in /usr/local/lib/python3.7/dist-packages (from requests<3,>=2.21.0->tensorboard->detectron2) (3.0.4)\n",
            "Requirement already satisfied: urllib3!=1.25.0,!=1.25.1,<1.26,>=1.21.1 in /usr/local/lib/python3.7/dist-packages (from requests<3,>=2.21.0->tensorboard->detectron2) (1.24.3)\n",
            "Requirement already satisfied: oauthlib>=3.0.0 in /usr/local/lib/python3.7/dist-packages (from requests-oauthlib>=0.7.0->google-auth-oauthlib<0.5,>=0.4.1->tensorboard->detectron2) (3.1.1)\n",
            "Building wheels for collected packages: fvcore, antlr4-python3-runtime\n",
            "  Building wheel for fvcore (setup.py) ... \u001b[?25l\u001b[?25hdone\n",
            "  Created wheel for fvcore: filename=fvcore-0.1.5.post20210812-py3-none-any.whl size=60666 sha256=4232af61327229e2783f43ffc8e3c67fe28bd5b9c1de674b770c7226b6e697cd\n",
            "  Stored in directory: /root/.cache/pip/wheels/96/b3/60/5dd98f4458841d2c07395a99e2d7f4260b5a320e4aebb683d1\n",
            "  Building wheel for antlr4-python3-runtime (setup.py) ... \u001b[?25l\u001b[?25hdone\n",
            "  Created wheel for antlr4-python3-runtime: filename=antlr4_python3_runtime-4.8-py3-none-any.whl size=141230 sha256=d72ab8280555d7258a99ece491eba3ff0cc9768f952cbfdafecca1985290f1d6\n",
            "  Stored in directory: /root/.cache/pip/wheels/ca/33/b7/336836125fc9bb4ceaa4376d8abca10ca8bc84ddc824baea6c\n",
            "Successfully built fvcore antlr4-python3-runtime\n",
            "Installing collected packages: portalocker, antlr4-python3-runtime, yacs, typed-ast, regex, pathspec, omegaconf, mypy-extensions, iopath, hydra-core, fvcore, black, detectron2\n",
            "  Attempting uninstall: regex\n",
            "    Found existing installation: regex 2019.12.20\n",
            "    Uninstalling regex-2019.12.20:\n",
            "      Successfully uninstalled regex-2019.12.20\n",
            "Successfully installed antlr4-python3-runtime-4.8 black-21.4b2 detectron2-0.5+cu101 fvcore-0.1.5.post20210812 hydra-core-1.1.0 iopath-0.1.8 mypy-extensions-0.4.3 omegaconf-2.1.0 pathspec-0.9.0 portalocker-2.3.0 regex-2021.8.3 typed-ast-1.4.3 yacs-0.1.8\n"
          ],
          "name": "stdout"
        },
        {
          "output_type": "display_data",
          "data": {
            "application/vnd.colab-display-data+json": {
              "pip_warning": {
                "packages": [
                  "pydevd_plugins"
                ]
              }
            }
          },
          "metadata": {
            "tags": []
          }
        }
      ]
    },
    {
      "cell_type": "code",
      "metadata": {
        "colab": {
          "base_uri": "https://localhost:8080/"
        },
        "id": "zcTKDZQ1W8eS",
        "outputId": "1a85b9e5-6edc-4217-ae6d-705274f90e5a"
      },
      "source": [
        "!nvidia-smi"
      ],
      "execution_count": null,
      "outputs": [
        {
          "output_type": "stream",
          "text": [
            "Tue Aug 17 07:40:37 2021       \n",
            "+-----------------------------------------------------------------------------+\n",
            "| NVIDIA-SMI 470.57.02    Driver Version: 460.32.03    CUDA Version: 11.2     |\n",
            "|-------------------------------+----------------------+----------------------+\n",
            "| GPU  Name        Persistence-M| Bus-Id        Disp.A | Volatile Uncorr. ECC |\n",
            "| Fan  Temp  Perf  Pwr:Usage/Cap|         Memory-Usage | GPU-Util  Compute M. |\n",
            "|                               |                      |               MIG M. |\n",
            "|===============================+======================+======================|\n",
            "|   0  Tesla T4            Off  | 00000000:00:04.0 Off |                    0 |\n",
            "| N/A   52C    P8    11W /  70W |      0MiB / 15109MiB |      0%      Default |\n",
            "|                               |                      |                  N/A |\n",
            "+-------------------------------+----------------------+----------------------+\n",
            "                                                                               \n",
            "+-----------------------------------------------------------------------------+\n",
            "| Processes:                                                                  |\n",
            "|  GPU   GI   CI        PID   Type   Process name                  GPU Memory |\n",
            "|        ID   ID                                                   Usage      |\n",
            "|=============================================================================|\n",
            "|  No running processes found                                                 |\n",
            "+-----------------------------------------------------------------------------+\n"
          ],
          "name": "stdout"
        }
      ]
    },
    {
      "cell_type": "code",
      "metadata": {
        "colab": {
          "base_uri": "https://localhost:8080/"
        },
        "id": "47OcIf2uXq1_",
        "outputId": "498b0eaf-23bd-4902-ce9b-385d18df2be1"
      },
      "source": [
        "import torch\n",
        "torch.cuda.is_available()"
      ],
      "execution_count": null,
      "outputs": [
        {
          "output_type": "execute_result",
          "data": {
            "text/plain": [
              "True"
            ]
          },
          "metadata": {
            "tags": []
          },
          "execution_count": 2
        }
      ]
    },
    {
      "cell_type": "code",
      "metadata": {
        "colab": {
          "base_uri": "https://localhost:8080/"
        },
        "id": "W5pPaDeOXvK1",
        "outputId": "fed234c8-0a34-4a76-9fcb-bb3f8f5d4f53"
      },
      "source": [
        "# Some basic setup:\n",
        "# Setup detectron2 logger\n",
        "import detectron2\n",
        "from detectron2.utils.logger import setup_logger\n",
        "setup_logger()"
      ],
      "execution_count": null,
      "outputs": [
        {
          "output_type": "execute_result",
          "data": {
            "text/plain": [
              "<Logger detectron2 (DEBUG)>"
            ]
          },
          "metadata": {
            "tags": []
          },
          "execution_count": 3
        }
      ]
    },
    {
      "cell_type": "code",
      "metadata": {
        "id": "kYx9HAt3XvIc"
      },
      "source": [
        "# import some common libraries\n",
        "import numpy as np\n",
        "import pandas as pd\n",
        "from tqdm.notebook import tqdm\n",
        "import matplotlib.pyplot as plt\n",
        "import os, json, cv2, random, glob\n",
        "from google.colab.patches import cv2_imshow"
      ],
      "execution_count": null,
      "outputs": []
    },
    {
      "cell_type": "code",
      "metadata": {
        "id": "6i7Oz_bDXvGQ"
      },
      "source": [
        "# import some common detectron2 utilities\n",
        "import os\n",
        "from detectron2 import model_zoo\n",
        "from detectron2.engine import DefaultPredictor\n",
        "from detectron2.config import get_cfg\n",
        "from detectron2.utils.visualizer import Visualizer\n",
        "from detectron2.data import MetadataCatalog, DatasetCatalog"
      ],
      "execution_count": null,
      "outputs": []
    },
    {
      "cell_type": "code",
      "metadata": {
        "id": "Z9CgnoDargpw"
      },
      "source": [
        "from detectron2.utils.visualizer import ColorMode\n",
        "from detectron2.data.datasets import register_coco_instances\n",
        "from detectron2.engine import DefaultTrainer\n",
        "from detectron2.evaluation import COCOEvaluator, inference_on_dataset\n",
        "from detectron2.data import build_detection_test_loader\n",
        "\n",
        "# For reading annotations file\n",
        "from pycocotools.coco import COCO\n",
        "\n",
        "# utilities\n",
        "from pprint import pprint # For beautiful print!\n",
        "\n",
        "\n",
        "# For data visualisation\n",
        "import plotly.graph_objects as go\n",
        "import plotly.express as px\n",
        "from google.colab.patches import cv2_imshow"
      ],
      "execution_count": null,
      "outputs": []
    },
    {
      "cell_type": "code",
      "metadata": {
        "colab": {
          "base_uri": "https://localhost:8080/"
        },
        "id": "5Atgp0VtsXWO",
        "outputId": "666c36ca-fba4-4a94-93f2-0d0e644f047f"
      },
      "source": [
        "TRAIN_ANNOTATIONS_PATH = \"/content/drive/MyDrive/visualization/trainval.json\"\n",
        "TRAIN_IMAGE_DIRECTIORY = \"/content/drive/MyDrive/visualization/trainimages\"\n",
        "\n",
        "train_coco = COCO(TRAIN_ANNOTATIONS_PATH)"
      ],
      "execution_count": null,
      "outputs": [
        {
          "output_type": "stream",
          "text": [
            "loading annotations into memory...\n",
            "Done (t=1.16s)\n",
            "creating index...\n",
            "index created!\n"
          ],
          "name": "stdout"
        }
      ]
    },
    {
      "cell_type": "code",
      "metadata": {
        "id": "b0uuZkxBsXTr"
      },
      "source": [
        "# Reading the annotation files\n",
        "with open(TRAIN_ANNOTATIONS_PATH) as f:\n",
        "  train_annotations_data = json.load(f)"
      ],
      "execution_count": null,
      "outputs": []
    },
    {
      "cell_type": "code",
      "metadata": {
        "colab": {
          "base_uri": "https://localhost:8080/"
        },
        "id": "46LwNSevsXQm",
        "outputId": "8da469d0-0322-4330-8308-8897885fa0a8"
      },
      "source": [
        "train_annotations_data['annotations'][0]"
      ],
      "execution_count": null,
      "outputs": [
        {
          "output_type": "execute_result",
          "data": {
            "text/plain": [
              "{'area': 195230.62220210256,\n",
              " 'bbox': [1.0, 186.0, 577.0, 504.0],\n",
              " 'category_id': 9,\n",
              " 'id': 1,\n",
              " 'image_id': 0,\n",
              " 'iscrowd': 0,\n",
              " 'segmentation': [[1.4751773049645465,\n",
              "   244.6808510638298,\n",
              "   139.06382978723406,\n",
              "   197.87234042553192,\n",
              "   283.0354609929078,\n",
              "   186.52482269503548,\n",
              "   434.8085106382979,\n",
              "   288.65248226950354,\n",
              "   534.8085106382979,\n",
              "   426.2411347517731,\n",
              "   578.7801418439717,\n",
              "   690.7801418439717,\n",
              "   499.3475177304965,\n",
              "   690.7801418439717,\n",
              "   1.4751773049645465,\n",
              "   493.6170212765958]]}"
            ]
          },
          "metadata": {
            "tags": []
          },
          "execution_count": 9
        }
      ]
    },
    {
      "cell_type": "code",
      "metadata": {
        "colab": {
          "base_uri": "https://localhost:8080/"
        },
        "id": "sGH339ndsXLD",
        "outputId": "ff25dffa-659f-463c-eef5-c3206572a13b"
      },
      "source": [
        "# Reading all classes\n",
        "\n",
        "category_ids = train_coco.loadCats(train_coco.getCatIds())\n",
        "\n",
        "category_names = [_[\"name\"] for _ in category_ids]\n",
        "\n",
        "pprint(\", \".join(category_names))"
      ],
      "execution_count": null,
      "outputs": [
        {
          "output_type": "stream",
          "text": [
            "('banana, biriyani, bread, chai, chappathi, chicken curry, chicken fry, '\n",
            " 'chutney, curry, dosa, egg, egg curry, fish curry, fish fry, idli, kadala '\n",
            " 'curry, pappadam, pazhampori, pickle, puttu, rice, salad, tea, upma, vada, '\n",
            " 'veg curry, vellappam')\n"
          ],
          "name": "stdout"
        }
      ]
    },
    {
      "cell_type": "code",
      "metadata": {
        "id": "q7tHDS2GsXDU"
      },
      "source": [
        ""
      ],
      "execution_count": null,
      "outputs": []
    },
    {
      "cell_type": "code",
      "metadata": {
        "colab": {
          "base_uri": "https://localhost:8080/"
        },
        "id": "bRDXQOtBsk-6",
        "outputId": "3276be19-bbb7-444c-f971-c5d40d0405c1"
      },
      "source": [
        "# Getting all categoriy with respective to their total images\n",
        "\n",
        "no_images_per_category = {}\n",
        "\n",
        "for n, i in enumerate(train_coco.getCatIds()):\n",
        "  imgIds = train_coco.getImgIds(catIds=i)\n",
        "  label = category_names[n]\n",
        "  no_images_per_category[label] = len(imgIds)\n",
        "\n",
        "img_info = pd.DataFrame(train_coco.loadImgs(train_coco.getImgIds()))\n",
        "\n",
        "no_images_per_category"
      ],
      "execution_count": null,
      "outputs": [
        {
          "output_type": "execute_result",
          "data": {
            "text/plain": [
              "{'banana': 79,\n",
              " 'biriyani': 267,\n",
              " 'bread': 199,\n",
              " 'chai': 128,\n",
              " 'chappathi': 234,\n",
              " 'chicken curry': 57,\n",
              " 'chicken fry': 77,\n",
              " 'chutney': 317,\n",
              " 'curry': 47,\n",
              " 'dosa': 332,\n",
              " 'egg': 10,\n",
              " 'egg curry': 1,\n",
              " 'fish curry': 22,\n",
              " 'fish fry': 71,\n",
              " 'idli': 314,\n",
              " 'kadala curry': 96,\n",
              " 'pappadam': 212,\n",
              " 'pazhampori': 7,\n",
              " 'pickle': 153,\n",
              " 'puttu': 224,\n",
              " 'rice': 276,\n",
              " 'salad': 91,\n",
              " 'tea': 4,\n",
              " 'upma': 228,\n",
              " 'vada': 158,\n",
              " 'veg curry': 193,\n",
              " 'vellappam': 204}"
            ]
          },
          "metadata": {
            "tags": []
          },
          "execution_count": 11
        }
      ]
    },
    {
      "cell_type": "code",
      "metadata": {
        "colab": {
          "base_uri": "https://localhost:8080/"
        },
        "id": "L7yOptL3sk6p",
        "outputId": "04cd2164-f051-485b-aeb4-c60ea9cf2800"
      },
      "source": [
        "pd.DataFrame(no_images_per_category.items()).sort_values(1).iloc[::-1][0][:30].tolist()"
      ],
      "execution_count": null,
      "outputs": [
        {
          "output_type": "execute_result",
          "data": {
            "text/plain": [
              "['dosa',\n",
              " 'chutney',\n",
              " 'idli',\n",
              " 'rice',\n",
              " 'biriyani',\n",
              " 'chappathi',\n",
              " 'upma',\n",
              " 'puttu',\n",
              " 'pappadam',\n",
              " 'vellappam',\n",
              " 'bread',\n",
              " 'veg curry',\n",
              " 'vada',\n",
              " 'pickle',\n",
              " 'chai',\n",
              " 'kadala curry',\n",
              " 'salad',\n",
              " 'banana',\n",
              " 'chicken fry',\n",
              " 'fish fry',\n",
              " 'chicken curry',\n",
              " 'curry',\n",
              " 'fish curry',\n",
              " 'egg',\n",
              " 'pazhampori',\n",
              " 'tea',\n",
              " 'egg curry']"
            ]
          },
          "metadata": {
            "tags": []
          },
          "execution_count": 12
        }
      ]
    },
    {
      "cell_type": "code",
      "metadata": {
        "colab": {
          "base_uri": "https://localhost:8080/",
          "height": 542
        },
        "id": "OqBntwX2sk0c",
        "outputId": "479d5593-717c-49eb-dc80-e205baf19cc0"
      },
      "source": [
        "fig = go.Figure([go.Bar(x=list(no_images_per_category.keys()), y=list(no_images_per_category.values()))])\n",
        "fig.update_layout(\n",
        "    title=\"No of Image per class\",)\n",
        "fig.show()"
      ],
      "execution_count": null,
      "outputs": [
        {
          "output_type": "display_data",
          "data": {
            "text/html": [
              "<html>\n",
              "<head><meta charset=\"utf-8\" /></head>\n",
              "<body>\n",
              "    <div>\n",
              "            <script src=\"https://cdnjs.cloudflare.com/ajax/libs/mathjax/2.7.5/MathJax.js?config=TeX-AMS-MML_SVG\"></script><script type=\"text/javascript\">if (window.MathJax) {MathJax.Hub.Config({SVG: {font: \"STIX-Web\"}});}</script>\n",
              "                <script type=\"text/javascript\">window.PlotlyConfig = {MathJaxConfig: 'local'};</script>\n",
              "        <script src=\"https://cdn.plot.ly/plotly-latest.min.js\"></script>    \n",
              "            <div id=\"492a2c4c-538c-4008-b955-e58831bbf94d\" class=\"plotly-graph-div\" style=\"height:525px; width:100%;\"></div>\n",
              "            <script type=\"text/javascript\">\n",
              "                \n",
              "                    window.PLOTLYENV=window.PLOTLYENV || {};\n",
              "                    \n",
              "                if (document.getElementById(\"492a2c4c-538c-4008-b955-e58831bbf94d\")) {\n",
              "                    Plotly.newPlot(\n",
              "                        '492a2c4c-538c-4008-b955-e58831bbf94d',\n",
              "                        [{\"type\": \"bar\", \"x\": [\"banana\", \"biriyani\", \"bread\", \"chai\", \"chappathi\", \"chicken curry\", \"chicken fry\", \"chutney\", \"curry\", \"dosa\", \"egg\", \"egg curry\", \"fish curry\", \"fish fry\", \"idli\", \"kadala curry\", \"pappadam\", \"pazhampori\", \"pickle\", \"puttu\", \"rice\", \"salad\", \"tea\", \"upma\", \"vada\", \"veg curry\", \"vellappam\"], \"y\": [79, 267, 199, 128, 234, 57, 77, 317, 47, 332, 10, 1, 22, 71, 314, 96, 212, 7, 153, 224, 276, 91, 4, 228, 158, 193, 204]}],\n",
              "                        {\"template\": {\"data\": {\"bar\": [{\"error_x\": {\"color\": \"#2a3f5f\"}, \"error_y\": {\"color\": \"#2a3f5f\"}, \"marker\": {\"line\": {\"color\": \"#E5ECF6\", \"width\": 0.5}}, \"type\": \"bar\"}], \"barpolar\": [{\"marker\": {\"line\": {\"color\": \"#E5ECF6\", \"width\": 0.5}}, \"type\": \"barpolar\"}], \"carpet\": [{\"aaxis\": {\"endlinecolor\": \"#2a3f5f\", \"gridcolor\": \"white\", \"linecolor\": \"white\", \"minorgridcolor\": \"white\", \"startlinecolor\": \"#2a3f5f\"}, \"baxis\": {\"endlinecolor\": \"#2a3f5f\", \"gridcolor\": \"white\", \"linecolor\": \"white\", \"minorgridcolor\": \"white\", \"startlinecolor\": \"#2a3f5f\"}, \"type\": \"carpet\"}], \"choropleth\": [{\"colorbar\": {\"outlinewidth\": 0, \"ticks\": \"\"}, \"type\": \"choropleth\"}], \"contour\": [{\"colorbar\": {\"outlinewidth\": 0, \"ticks\": \"\"}, \"colorscale\": [[0.0, \"#0d0887\"], [0.1111111111111111, \"#46039f\"], [0.2222222222222222, \"#7201a8\"], [0.3333333333333333, \"#9c179e\"], [0.4444444444444444, \"#bd3786\"], [0.5555555555555556, \"#d8576b\"], [0.6666666666666666, \"#ed7953\"], [0.7777777777777778, \"#fb9f3a\"], [0.8888888888888888, \"#fdca26\"], [1.0, \"#f0f921\"]], \"type\": \"contour\"}], \"contourcarpet\": [{\"colorbar\": {\"outlinewidth\": 0, \"ticks\": \"\"}, \"type\": \"contourcarpet\"}], \"heatmap\": [{\"colorbar\": {\"outlinewidth\": 0, \"ticks\": \"\"}, \"colorscale\": [[0.0, \"#0d0887\"], [0.1111111111111111, \"#46039f\"], [0.2222222222222222, \"#7201a8\"], [0.3333333333333333, \"#9c179e\"], [0.4444444444444444, \"#bd3786\"], [0.5555555555555556, \"#d8576b\"], [0.6666666666666666, \"#ed7953\"], [0.7777777777777778, \"#fb9f3a\"], [0.8888888888888888, \"#fdca26\"], [1.0, \"#f0f921\"]], \"type\": \"heatmap\"}], \"heatmapgl\": [{\"colorbar\": {\"outlinewidth\": 0, \"ticks\": \"\"}, \"colorscale\": [[0.0, \"#0d0887\"], [0.1111111111111111, \"#46039f\"], [0.2222222222222222, \"#7201a8\"], [0.3333333333333333, \"#9c179e\"], [0.4444444444444444, \"#bd3786\"], [0.5555555555555556, \"#d8576b\"], [0.6666666666666666, \"#ed7953\"], [0.7777777777777778, \"#fb9f3a\"], [0.8888888888888888, \"#fdca26\"], [1.0, \"#f0f921\"]], \"type\": \"heatmapgl\"}], \"histogram\": [{\"marker\": {\"colorbar\": {\"outlinewidth\": 0, \"ticks\": \"\"}}, \"type\": \"histogram\"}], \"histogram2d\": [{\"colorbar\": {\"outlinewidth\": 0, \"ticks\": \"\"}, \"colorscale\": [[0.0, \"#0d0887\"], [0.1111111111111111, \"#46039f\"], [0.2222222222222222, \"#7201a8\"], [0.3333333333333333, \"#9c179e\"], [0.4444444444444444, \"#bd3786\"], [0.5555555555555556, \"#d8576b\"], [0.6666666666666666, \"#ed7953\"], [0.7777777777777778, \"#fb9f3a\"], [0.8888888888888888, \"#fdca26\"], [1.0, \"#f0f921\"]], \"type\": \"histogram2d\"}], \"histogram2dcontour\": [{\"colorbar\": {\"outlinewidth\": 0, \"ticks\": \"\"}, \"colorscale\": [[0.0, \"#0d0887\"], [0.1111111111111111, \"#46039f\"], [0.2222222222222222, \"#7201a8\"], [0.3333333333333333, \"#9c179e\"], [0.4444444444444444, \"#bd3786\"], [0.5555555555555556, \"#d8576b\"], [0.6666666666666666, \"#ed7953\"], [0.7777777777777778, \"#fb9f3a\"], [0.8888888888888888, \"#fdca26\"], [1.0, \"#f0f921\"]], \"type\": \"histogram2dcontour\"}], \"mesh3d\": [{\"colorbar\": {\"outlinewidth\": 0, \"ticks\": \"\"}, \"type\": \"mesh3d\"}], \"parcoords\": [{\"line\": {\"colorbar\": {\"outlinewidth\": 0, \"ticks\": \"\"}}, \"type\": \"parcoords\"}], \"pie\": [{\"automargin\": true, \"type\": \"pie\"}], \"scatter\": [{\"marker\": {\"colorbar\": {\"outlinewidth\": 0, \"ticks\": \"\"}}, \"type\": \"scatter\"}], \"scatter3d\": [{\"line\": {\"colorbar\": {\"outlinewidth\": 0, \"ticks\": \"\"}}, \"marker\": {\"colorbar\": {\"outlinewidth\": 0, \"ticks\": \"\"}}, \"type\": \"scatter3d\"}], \"scattercarpet\": [{\"marker\": {\"colorbar\": {\"outlinewidth\": 0, \"ticks\": \"\"}}, \"type\": \"scattercarpet\"}], \"scattergeo\": [{\"marker\": {\"colorbar\": {\"outlinewidth\": 0, \"ticks\": \"\"}}, \"type\": \"scattergeo\"}], \"scattergl\": [{\"marker\": {\"colorbar\": {\"outlinewidth\": 0, \"ticks\": \"\"}}, \"type\": \"scattergl\"}], \"scattermapbox\": [{\"marker\": {\"colorbar\": {\"outlinewidth\": 0, \"ticks\": \"\"}}, \"type\": \"scattermapbox\"}], \"scatterpolar\": [{\"marker\": {\"colorbar\": {\"outlinewidth\": 0, \"ticks\": \"\"}}, \"type\": \"scatterpolar\"}], \"scatterpolargl\": [{\"marker\": {\"colorbar\": {\"outlinewidth\": 0, \"ticks\": \"\"}}, \"type\": \"scatterpolargl\"}], \"scatterternary\": [{\"marker\": {\"colorbar\": {\"outlinewidth\": 0, \"ticks\": \"\"}}, \"type\": \"scatterternary\"}], \"surface\": [{\"colorbar\": {\"outlinewidth\": 0, \"ticks\": \"\"}, \"colorscale\": [[0.0, \"#0d0887\"], [0.1111111111111111, \"#46039f\"], [0.2222222222222222, \"#7201a8\"], [0.3333333333333333, \"#9c179e\"], [0.4444444444444444, \"#bd3786\"], [0.5555555555555556, \"#d8576b\"], [0.6666666666666666, \"#ed7953\"], [0.7777777777777778, \"#fb9f3a\"], [0.8888888888888888, \"#fdca26\"], [1.0, \"#f0f921\"]], \"type\": \"surface\"}], \"table\": [{\"cells\": {\"fill\": {\"color\": \"#EBF0F8\"}, \"line\": {\"color\": \"white\"}}, \"header\": {\"fill\": {\"color\": \"#C8D4E3\"}, \"line\": {\"color\": \"white\"}}, \"type\": \"table\"}]}, \"layout\": {\"annotationdefaults\": {\"arrowcolor\": \"#2a3f5f\", \"arrowhead\": 0, \"arrowwidth\": 1}, \"coloraxis\": {\"colorbar\": {\"outlinewidth\": 0, \"ticks\": \"\"}}, \"colorscale\": {\"diverging\": [[0, \"#8e0152\"], [0.1, \"#c51b7d\"], [0.2, \"#de77ae\"], [0.3, \"#f1b6da\"], [0.4, \"#fde0ef\"], [0.5, \"#f7f7f7\"], [0.6, \"#e6f5d0\"], [0.7, \"#b8e186\"], [0.8, \"#7fbc41\"], [0.9, \"#4d9221\"], [1, \"#276419\"]], \"sequential\": [[0.0, \"#0d0887\"], [0.1111111111111111, \"#46039f\"], [0.2222222222222222, \"#7201a8\"], [0.3333333333333333, \"#9c179e\"], [0.4444444444444444, \"#bd3786\"], [0.5555555555555556, \"#d8576b\"], [0.6666666666666666, \"#ed7953\"], [0.7777777777777778, \"#fb9f3a\"], [0.8888888888888888, \"#fdca26\"], [1.0, \"#f0f921\"]], \"sequentialminus\": [[0.0, \"#0d0887\"], [0.1111111111111111, \"#46039f\"], [0.2222222222222222, \"#7201a8\"], [0.3333333333333333, \"#9c179e\"], [0.4444444444444444, \"#bd3786\"], [0.5555555555555556, \"#d8576b\"], [0.6666666666666666, \"#ed7953\"], [0.7777777777777778, \"#fb9f3a\"], [0.8888888888888888, \"#fdca26\"], [1.0, \"#f0f921\"]]}, \"colorway\": [\"#636efa\", \"#EF553B\", \"#00cc96\", \"#ab63fa\", \"#FFA15A\", \"#19d3f3\", \"#FF6692\", \"#B6E880\", \"#FF97FF\", \"#FECB52\"], \"font\": {\"color\": \"#2a3f5f\"}, \"geo\": {\"bgcolor\": \"white\", \"lakecolor\": \"white\", \"landcolor\": \"#E5ECF6\", \"showlakes\": true, \"showland\": true, \"subunitcolor\": \"white\"}, \"hoverlabel\": {\"align\": \"left\"}, \"hovermode\": \"closest\", \"mapbox\": {\"style\": \"light\"}, \"paper_bgcolor\": \"white\", \"plot_bgcolor\": \"#E5ECF6\", \"polar\": {\"angularaxis\": {\"gridcolor\": \"white\", \"linecolor\": \"white\", \"ticks\": \"\"}, \"bgcolor\": \"#E5ECF6\", \"radialaxis\": {\"gridcolor\": \"white\", \"linecolor\": \"white\", \"ticks\": \"\"}}, \"scene\": {\"xaxis\": {\"backgroundcolor\": \"#E5ECF6\", \"gridcolor\": \"white\", \"gridwidth\": 2, \"linecolor\": \"white\", \"showbackground\": true, \"ticks\": \"\", \"zerolinecolor\": \"white\"}, \"yaxis\": {\"backgroundcolor\": \"#E5ECF6\", \"gridcolor\": \"white\", \"gridwidth\": 2, \"linecolor\": \"white\", \"showbackground\": true, \"ticks\": \"\", \"zerolinecolor\": \"white\"}, \"zaxis\": {\"backgroundcolor\": \"#E5ECF6\", \"gridcolor\": \"white\", \"gridwidth\": 2, \"linecolor\": \"white\", \"showbackground\": true, \"ticks\": \"\", \"zerolinecolor\": \"white\"}}, \"shapedefaults\": {\"line\": {\"color\": \"#2a3f5f\"}}, \"ternary\": {\"aaxis\": {\"gridcolor\": \"white\", \"linecolor\": \"white\", \"ticks\": \"\"}, \"baxis\": {\"gridcolor\": \"white\", \"linecolor\": \"white\", \"ticks\": \"\"}, \"bgcolor\": \"#E5ECF6\", \"caxis\": {\"gridcolor\": \"white\", \"linecolor\": \"white\", \"ticks\": \"\"}}, \"title\": {\"x\": 0.05}, \"xaxis\": {\"automargin\": true, \"gridcolor\": \"white\", \"linecolor\": \"white\", \"ticks\": \"\", \"title\": {\"standoff\": 15}, \"zerolinecolor\": \"white\", \"zerolinewidth\": 2}, \"yaxis\": {\"automargin\": true, \"gridcolor\": \"white\", \"linecolor\": \"white\", \"ticks\": \"\", \"title\": {\"standoff\": 15}, \"zerolinecolor\": \"white\", \"zerolinewidth\": 2}}}, \"title\": {\"text\": \"No of Image per class\"}},\n",
              "                        {\"responsive\": true}\n",
              "                    ).then(function(){\n",
              "                            \n",
              "var gd = document.getElementById('492a2c4c-538c-4008-b955-e58831bbf94d');\n",
              "var x = new MutationObserver(function (mutations, observer) {{\n",
              "        var display = window.getComputedStyle(gd).display;\n",
              "        if (!display || display === 'none') {{\n",
              "            console.log([gd, 'removed!']);\n",
              "            Plotly.purge(gd);\n",
              "            observer.disconnect();\n",
              "        }}\n",
              "}});\n",
              "\n",
              "// Listen for the removal of the full notebook cells\n",
              "var notebookContainer = gd.closest('#notebook-container');\n",
              "if (notebookContainer) {{\n",
              "    x.observe(notebookContainer, {childList: true});\n",
              "}}\n",
              "\n",
              "// Listen for the clearing of the current output cell\n",
              "var outputEl = gd.closest('.output');\n",
              "if (outputEl) {{\n",
              "    x.observe(outputEl, {childList: true});\n",
              "}}\n",
              "\n",
              "                        })\n",
              "                };\n",
              "                \n",
              "            </script>\n",
              "        </div>\n",
              "</body>\n",
              "</html>"
            ]
          },
          "metadata": {
            "tags": []
          }
        }
      ]
    },
    {
      "cell_type": "code",
      "metadata": {
        "colab": {
          "base_uri": "https://localhost:8080/",
          "height": 542
        },
        "id": "WR0h1zuMs2AD",
        "outputId": "eacb1ad0-05e5-4cc0-f6b9-b25616d8b878"
      },
      "source": [
        "fig = go.Figure(data=[go.Pie(labels=list(no_images_per_category.keys()), values=list(no_images_per_category.values()), \n",
        "                             hole=.3, textposition='inside', )], )\n",
        "fig.update_layout(\n",
        "    title=\"No of Image per class ( In pie )\",)\n",
        "fig.show()"
      ],
      "execution_count": null,
      "outputs": [
        {
          "output_type": "display_data",
          "data": {
            "text/html": [
              "<html>\n",
              "<head><meta charset=\"utf-8\" /></head>\n",
              "<body>\n",
              "    <div>\n",
              "            <script src=\"https://cdnjs.cloudflare.com/ajax/libs/mathjax/2.7.5/MathJax.js?config=TeX-AMS-MML_SVG\"></script><script type=\"text/javascript\">if (window.MathJax) {MathJax.Hub.Config({SVG: {font: \"STIX-Web\"}});}</script>\n",
              "                <script type=\"text/javascript\">window.PlotlyConfig = {MathJaxConfig: 'local'};</script>\n",
              "        <script src=\"https://cdn.plot.ly/plotly-latest.min.js\"></script>    \n",
              "            <div id=\"e7ca06f5-76cd-426f-ac2e-2096e0c524d2\" class=\"plotly-graph-div\" style=\"height:525px; width:100%;\"></div>\n",
              "            <script type=\"text/javascript\">\n",
              "                \n",
              "                    window.PLOTLYENV=window.PLOTLYENV || {};\n",
              "                    \n",
              "                if (document.getElementById(\"e7ca06f5-76cd-426f-ac2e-2096e0c524d2\")) {\n",
              "                    Plotly.newPlot(\n",
              "                        'e7ca06f5-76cd-426f-ac2e-2096e0c524d2',\n",
              "                        [{\"hole\": 0.3, \"labels\": [\"banana\", \"biriyani\", \"bread\", \"chai\", \"chappathi\", \"chicken curry\", \"chicken fry\", \"chutney\", \"curry\", \"dosa\", \"egg\", \"egg curry\", \"fish curry\", \"fish fry\", \"idli\", \"kadala curry\", \"pappadam\", \"pazhampori\", \"pickle\", \"puttu\", \"rice\", \"salad\", \"tea\", \"upma\", \"vada\", \"veg curry\", \"vellappam\"], \"textposition\": \"inside\", \"type\": \"pie\", \"values\": [79, 267, 199, 128, 234, 57, 77, 317, 47, 332, 10, 1, 22, 71, 314, 96, 212, 7, 153, 224, 276, 91, 4, 228, 158, 193, 204]}],\n",
              "                        {\"template\": {\"data\": {\"bar\": [{\"error_x\": {\"color\": \"#2a3f5f\"}, \"error_y\": {\"color\": \"#2a3f5f\"}, \"marker\": {\"line\": {\"color\": \"#E5ECF6\", \"width\": 0.5}}, \"type\": \"bar\"}], \"barpolar\": [{\"marker\": {\"line\": {\"color\": \"#E5ECF6\", \"width\": 0.5}}, \"type\": \"barpolar\"}], \"carpet\": [{\"aaxis\": {\"endlinecolor\": \"#2a3f5f\", \"gridcolor\": \"white\", \"linecolor\": \"white\", \"minorgridcolor\": \"white\", \"startlinecolor\": \"#2a3f5f\"}, \"baxis\": {\"endlinecolor\": \"#2a3f5f\", \"gridcolor\": \"white\", \"linecolor\": \"white\", \"minorgridcolor\": \"white\", \"startlinecolor\": \"#2a3f5f\"}, \"type\": \"carpet\"}], \"choropleth\": [{\"colorbar\": {\"outlinewidth\": 0, \"ticks\": \"\"}, \"type\": \"choropleth\"}], \"contour\": [{\"colorbar\": {\"outlinewidth\": 0, \"ticks\": \"\"}, \"colorscale\": [[0.0, \"#0d0887\"], [0.1111111111111111, \"#46039f\"], [0.2222222222222222, \"#7201a8\"], [0.3333333333333333, \"#9c179e\"], [0.4444444444444444, \"#bd3786\"], [0.5555555555555556, \"#d8576b\"], [0.6666666666666666, \"#ed7953\"], [0.7777777777777778, \"#fb9f3a\"], [0.8888888888888888, \"#fdca26\"], [1.0, \"#f0f921\"]], \"type\": \"contour\"}], \"contourcarpet\": [{\"colorbar\": {\"outlinewidth\": 0, \"ticks\": \"\"}, \"type\": \"contourcarpet\"}], \"heatmap\": [{\"colorbar\": {\"outlinewidth\": 0, \"ticks\": \"\"}, \"colorscale\": [[0.0, \"#0d0887\"], [0.1111111111111111, \"#46039f\"], [0.2222222222222222, \"#7201a8\"], [0.3333333333333333, \"#9c179e\"], [0.4444444444444444, \"#bd3786\"], [0.5555555555555556, \"#d8576b\"], [0.6666666666666666, \"#ed7953\"], [0.7777777777777778, \"#fb9f3a\"], [0.8888888888888888, \"#fdca26\"], [1.0, \"#f0f921\"]], \"type\": \"heatmap\"}], \"heatmapgl\": [{\"colorbar\": {\"outlinewidth\": 0, \"ticks\": \"\"}, \"colorscale\": [[0.0, \"#0d0887\"], [0.1111111111111111, \"#46039f\"], [0.2222222222222222, \"#7201a8\"], [0.3333333333333333, \"#9c179e\"], [0.4444444444444444, \"#bd3786\"], [0.5555555555555556, \"#d8576b\"], [0.6666666666666666, \"#ed7953\"], [0.7777777777777778, \"#fb9f3a\"], [0.8888888888888888, \"#fdca26\"], [1.0, \"#f0f921\"]], \"type\": \"heatmapgl\"}], \"histogram\": [{\"marker\": {\"colorbar\": {\"outlinewidth\": 0, \"ticks\": \"\"}}, \"type\": \"histogram\"}], \"histogram2d\": [{\"colorbar\": {\"outlinewidth\": 0, \"ticks\": \"\"}, \"colorscale\": [[0.0, \"#0d0887\"], [0.1111111111111111, \"#46039f\"], [0.2222222222222222, \"#7201a8\"], [0.3333333333333333, \"#9c179e\"], [0.4444444444444444, \"#bd3786\"], [0.5555555555555556, \"#d8576b\"], [0.6666666666666666, \"#ed7953\"], [0.7777777777777778, \"#fb9f3a\"], [0.8888888888888888, \"#fdca26\"], [1.0, \"#f0f921\"]], \"type\": \"histogram2d\"}], \"histogram2dcontour\": [{\"colorbar\": {\"outlinewidth\": 0, \"ticks\": \"\"}, \"colorscale\": [[0.0, \"#0d0887\"], [0.1111111111111111, \"#46039f\"], [0.2222222222222222, \"#7201a8\"], [0.3333333333333333, \"#9c179e\"], [0.4444444444444444, \"#bd3786\"], [0.5555555555555556, \"#d8576b\"], [0.6666666666666666, \"#ed7953\"], [0.7777777777777778, \"#fb9f3a\"], [0.8888888888888888, \"#fdca26\"], [1.0, \"#f0f921\"]], \"type\": \"histogram2dcontour\"}], \"mesh3d\": [{\"colorbar\": {\"outlinewidth\": 0, \"ticks\": \"\"}, \"type\": \"mesh3d\"}], \"parcoords\": [{\"line\": {\"colorbar\": {\"outlinewidth\": 0, \"ticks\": \"\"}}, \"type\": \"parcoords\"}], \"pie\": [{\"automargin\": true, \"type\": \"pie\"}], \"scatter\": [{\"marker\": {\"colorbar\": {\"outlinewidth\": 0, \"ticks\": \"\"}}, \"type\": \"scatter\"}], \"scatter3d\": [{\"line\": {\"colorbar\": {\"outlinewidth\": 0, \"ticks\": \"\"}}, \"marker\": {\"colorbar\": {\"outlinewidth\": 0, \"ticks\": \"\"}}, \"type\": \"scatter3d\"}], \"scattercarpet\": [{\"marker\": {\"colorbar\": {\"outlinewidth\": 0, \"ticks\": \"\"}}, \"type\": \"scattercarpet\"}], \"scattergeo\": [{\"marker\": {\"colorbar\": {\"outlinewidth\": 0, \"ticks\": \"\"}}, \"type\": \"scattergeo\"}], \"scattergl\": [{\"marker\": {\"colorbar\": {\"outlinewidth\": 0, \"ticks\": \"\"}}, \"type\": \"scattergl\"}], \"scattermapbox\": [{\"marker\": {\"colorbar\": {\"outlinewidth\": 0, \"ticks\": \"\"}}, \"type\": \"scattermapbox\"}], \"scatterpolar\": [{\"marker\": {\"colorbar\": {\"outlinewidth\": 0, \"ticks\": \"\"}}, \"type\": \"scatterpolar\"}], \"scatterpolargl\": [{\"marker\": {\"colorbar\": {\"outlinewidth\": 0, \"ticks\": \"\"}}, \"type\": \"scatterpolargl\"}], \"scatterternary\": [{\"marker\": {\"colorbar\": {\"outlinewidth\": 0, \"ticks\": \"\"}}, \"type\": \"scatterternary\"}], \"surface\": [{\"colorbar\": {\"outlinewidth\": 0, \"ticks\": \"\"}, \"colorscale\": [[0.0, \"#0d0887\"], [0.1111111111111111, \"#46039f\"], [0.2222222222222222, \"#7201a8\"], [0.3333333333333333, \"#9c179e\"], [0.4444444444444444, \"#bd3786\"], [0.5555555555555556, \"#d8576b\"], [0.6666666666666666, \"#ed7953\"], [0.7777777777777778, \"#fb9f3a\"], [0.8888888888888888, \"#fdca26\"], [1.0, \"#f0f921\"]], \"type\": \"surface\"}], \"table\": [{\"cells\": {\"fill\": {\"color\": \"#EBF0F8\"}, \"line\": {\"color\": \"white\"}}, \"header\": {\"fill\": {\"color\": \"#C8D4E3\"}, \"line\": {\"color\": \"white\"}}, \"type\": \"table\"}]}, \"layout\": {\"annotationdefaults\": {\"arrowcolor\": \"#2a3f5f\", \"arrowhead\": 0, \"arrowwidth\": 1}, \"coloraxis\": {\"colorbar\": {\"outlinewidth\": 0, \"ticks\": \"\"}}, \"colorscale\": {\"diverging\": [[0, \"#8e0152\"], [0.1, \"#c51b7d\"], [0.2, \"#de77ae\"], [0.3, \"#f1b6da\"], [0.4, \"#fde0ef\"], [0.5, \"#f7f7f7\"], [0.6, \"#e6f5d0\"], [0.7, \"#b8e186\"], [0.8, \"#7fbc41\"], [0.9, \"#4d9221\"], [1, \"#276419\"]], \"sequential\": [[0.0, \"#0d0887\"], [0.1111111111111111, \"#46039f\"], [0.2222222222222222, \"#7201a8\"], [0.3333333333333333, \"#9c179e\"], [0.4444444444444444, \"#bd3786\"], [0.5555555555555556, \"#d8576b\"], [0.6666666666666666, \"#ed7953\"], [0.7777777777777778, \"#fb9f3a\"], [0.8888888888888888, \"#fdca26\"], [1.0, \"#f0f921\"]], \"sequentialminus\": [[0.0, \"#0d0887\"], [0.1111111111111111, \"#46039f\"], [0.2222222222222222, \"#7201a8\"], [0.3333333333333333, \"#9c179e\"], [0.4444444444444444, \"#bd3786\"], [0.5555555555555556, \"#d8576b\"], [0.6666666666666666, \"#ed7953\"], [0.7777777777777778, \"#fb9f3a\"], [0.8888888888888888, \"#fdca26\"], [1.0, \"#f0f921\"]]}, \"colorway\": [\"#636efa\", \"#EF553B\", \"#00cc96\", \"#ab63fa\", \"#FFA15A\", \"#19d3f3\", \"#FF6692\", \"#B6E880\", \"#FF97FF\", \"#FECB52\"], \"font\": {\"color\": \"#2a3f5f\"}, \"geo\": {\"bgcolor\": \"white\", \"lakecolor\": \"white\", \"landcolor\": \"#E5ECF6\", \"showlakes\": true, \"showland\": true, \"subunitcolor\": \"white\"}, \"hoverlabel\": {\"align\": \"left\"}, \"hovermode\": \"closest\", \"mapbox\": {\"style\": \"light\"}, \"paper_bgcolor\": \"white\", \"plot_bgcolor\": \"#E5ECF6\", \"polar\": {\"angularaxis\": {\"gridcolor\": \"white\", \"linecolor\": \"white\", \"ticks\": \"\"}, \"bgcolor\": \"#E5ECF6\", \"radialaxis\": {\"gridcolor\": \"white\", \"linecolor\": \"white\", \"ticks\": \"\"}}, \"scene\": {\"xaxis\": {\"backgroundcolor\": \"#E5ECF6\", \"gridcolor\": \"white\", \"gridwidth\": 2, \"linecolor\": \"white\", \"showbackground\": true, \"ticks\": \"\", \"zerolinecolor\": \"white\"}, \"yaxis\": {\"backgroundcolor\": \"#E5ECF6\", \"gridcolor\": \"white\", \"gridwidth\": 2, \"linecolor\": \"white\", \"showbackground\": true, \"ticks\": \"\", \"zerolinecolor\": \"white\"}, \"zaxis\": {\"backgroundcolor\": \"#E5ECF6\", \"gridcolor\": \"white\", \"gridwidth\": 2, \"linecolor\": \"white\", \"showbackground\": true, \"ticks\": \"\", \"zerolinecolor\": \"white\"}}, \"shapedefaults\": {\"line\": {\"color\": \"#2a3f5f\"}}, \"ternary\": {\"aaxis\": {\"gridcolor\": \"white\", \"linecolor\": \"white\", \"ticks\": \"\"}, \"baxis\": {\"gridcolor\": \"white\", \"linecolor\": \"white\", \"ticks\": \"\"}, \"bgcolor\": \"#E5ECF6\", \"caxis\": {\"gridcolor\": \"white\", \"linecolor\": \"white\", \"ticks\": \"\"}}, \"title\": {\"x\": 0.05}, \"xaxis\": {\"automargin\": true, \"gridcolor\": \"white\", \"linecolor\": \"white\", \"ticks\": \"\", \"title\": {\"standoff\": 15}, \"zerolinecolor\": \"white\", \"zerolinewidth\": 2}, \"yaxis\": {\"automargin\": true, \"gridcolor\": \"white\", \"linecolor\": \"white\", \"ticks\": \"\", \"title\": {\"standoff\": 15}, \"zerolinecolor\": \"white\", \"zerolinewidth\": 2}}}, \"title\": {\"text\": \"No of Image per class ( In pie )\"}},\n",
              "                        {\"responsive\": true}\n",
              "                    ).then(function(){\n",
              "                            \n",
              "var gd = document.getElementById('e7ca06f5-76cd-426f-ac2e-2096e0c524d2');\n",
              "var x = new MutationObserver(function (mutations, observer) {{\n",
              "        var display = window.getComputedStyle(gd).display;\n",
              "        if (!display || display === 'none') {{\n",
              "            console.log([gd, 'removed!']);\n",
              "            Plotly.purge(gd);\n",
              "            observer.disconnect();\n",
              "        }}\n",
              "}});\n",
              "\n",
              "// Listen for the removal of the full notebook cells\n",
              "var notebookContainer = gd.closest('#notebook-container');\n",
              "if (notebookContainer) {{\n",
              "    x.observe(notebookContainer, {childList: true});\n",
              "}}\n",
              "\n",
              "// Listen for the clearing of the current output cell\n",
              "var outputEl = gd.closest('.output');\n",
              "if (outputEl) {{\n",
              "    x.observe(outputEl, {childList: true});\n",
              "}}\n",
              "\n",
              "                        })\n",
              "                };\n",
              "                \n",
              "            </script>\n",
              "        </div>\n",
              "</body>\n",
              "</html>"
            ]
          },
          "metadata": {
            "tags": []
          }
        }
      ]
    },
    {
      "cell_type": "code",
      "metadata": {
        "colab": {
          "base_uri": "https://localhost:8080/",
          "height": 542
        },
        "id": "sd_RTjtGs133",
        "outputId": "864f5602-40ce-48bd-ac94-7c3dca46c853"
      },
      "source": [
        "fig = go.Figure()\n",
        "fig.add_trace(go.Histogram(x=img_info['height']))\n",
        "fig.add_trace(go.Histogram(x=img_info['width']))\n",
        "\n",
        "# Overlay both histograms\n",
        "fig.update_layout(barmode='stack', title=\"Histogram of Image width & height\",)\n",
        "\n",
        "\n",
        "fig.show()"
      ],
      "execution_count": null,
      "outputs": [
        {
          "output_type": "display_data",
          "data": {
            "text/html": [
              "<html>\n",
              "<head><meta charset=\"utf-8\" /></head>\n",
              "<body>\n",
              "    <div>\n",
              "            <script src=\"https://cdnjs.cloudflare.com/ajax/libs/mathjax/2.7.5/MathJax.js?config=TeX-AMS-MML_SVG\"></script><script type=\"text/javascript\">if (window.MathJax) {MathJax.Hub.Config({SVG: {font: \"STIX-Web\"}});}</script>\n",
              "                <script type=\"text/javascript\">window.PlotlyConfig = {MathJaxConfig: 'local'};</script>\n",
              "        <script src=\"https://cdn.plot.ly/plotly-latest.min.js\"></script>    \n",
              "            <div id=\"899e43b5-951c-44cc-b237-6df36b117e35\" class=\"plotly-graph-div\" style=\"height:525px; width:100%;\"></div>\n",
              "            <script type=\"text/javascript\">\n",
              "                \n",
              "                    window.PLOTLYENV=window.PLOTLYENV || {};\n",
              "                    \n",
              "                if (document.getElementById(\"899e43b5-951c-44cc-b237-6df36b117e35\")) {\n",
              "                    Plotly.newPlot(\n",
              "                        '899e43b5-951c-44cc-b237-6df36b117e35',\n",
              "                        [{\"type\": \"histogram\", \"x\": [694, 538, 720, 720, 960, 720, 720, 412, 633, 468, 441, 563, 960, 1080, 405, 640, 692, 665, 658, 385, 805, 613, 640, 900, 499, 478, 640, 849, 640, 720, 1516, 720, 1079, 618, 732, 868, 477, 540, 539, 679, 360, 640, 560, 480, 960, 720, 584, 540, 1202, 720, 1280, 738, 1280, 560, 374, 562, 960, 720, 528, 960, 959, 960, 480, 540, 540, 482, 720, 640, 736, 822, 540, 610, 720, 529, 960, 480, 741, 900, 480, 480, 960, 853, 540, 853, 765, 477, 577, 640, 480, 853, 640, 960, 580, 900, 640, 378, 640, 853, 679, 720, 492, 603, 769, 1280, 1536, 509, 960, 960, 652, 426, 1080, 720, 540, 540, 720, 405, 770, 540, 1080, 540, 960, 720, 479, 1137, 900, 540, 626, 480, 556, 1560, 480, 576, 960, 1080, 959, 720, 529, 580, 960, 477, 540, 540, 958, 510, 801, 405, 1200, 640, 640, 640, 461, 1024, 720, 815, 478, 510, 480, 960, 443, 678, 479, 862, 603, 480, 480, 540, 960, 531, 480, 960, 960, 720, 515, 960, 853, 477, 510, 1281, 852, 481, 540, 510, 864, 591, 720, 644, 465, 960, 540, 405, 433, 700, 540, 540, 790, 976, 1280, 1080, 482, 573, 1008, 960, 376, 640, 686, 1103, 720, 480, 540, 498, 720, 1080, 480, 540, 460, 540, 540, 640, 1224, 960, 669, 538, 666, 960, 640, 396, 800, 640, 960, 960, 720, 468, 960, 613, 480, 699, 720, 726, 720, 540, 960, 478, 720, 568, 707, 986, 530, 1080, 633, 454, 540, 960, 457, 418, 537, 508, 631, 900, 340, 710, 589, 523, 1280, 784, 787, 978, 640, 540, 420, 450, 1079, 640, 480, 483, 900, 540, 537, 717, 460, 653, 798, 1080, 955, 480, 1280, 504, 540, 900, 507, 540, 480, 720, 768, 1280, 578, 800, 480, 960, 488, 1156, 800, 1079, 428, 635, 1280, 640, 402, 720, 631, 480, 853, 960, 480, 405, 480, 405, 720, 579, 560, 679, 652, 405, 720, 1075, 800, 708, 480, 640, 637, 491, 640, 603, 801, 569, 405, 640, 800, 694, 640, 960, 732, 624, 849, 348, 540, 853, 638, 800, 429, 958, 640, 540, 841, 720, 405, 640, 540, 960, 476, 405, 510, 480, 539, 479, 763, 1080, 720, 609, 497, 426, 652, 900, 480, 480, 960, 640, 1280, 659, 945, 1280, 832, 962, 640, 654, 429, 529, 540, 960, 540, 510, 960, 562, 899, 480, 540, 446, 442, 874, 426, 466, 629, 852, 800, 854, 1083, 524, 640, 540, 540, 479, 862, 624, 540, 834, 640, 720, 480, 880, 720, 1079, 540, 900, 960, 614, 576, 1920, 774, 720, 720, 1280, 477, 643, 556, 540, 652, 640, 640, 540, 1295, 819, 1082, 876, 448, 657, 720, 878, 899, 540, 720, 720, 571, 960, 640, 670, 823, 960, 540, 1237, 540, 540, 960, 720, 420, 1600, 617, 540, 720, 612, 668, 853, 703, 480, 785, 480, 1024, 601, 640, 540, 1280, 426, 480, 720, 403, 751, 479, 572, 960, 629, 405, 400, 540, 715, 900, 529, 541, 480, 529, 640, 400, 480, 720, 540, 1281, 402, 640, 720, 1078, 480, 960, 405, 521, 424, 774, 540, 856, 641, 540, 667, 960, 540, 1079, 540, 540, 798, 935, 800, 960, 734, 540, 432, 439, 696, 360, 479, 626, 1080, 530, 785, 655, 1280, 900, 960, 479, 540, 705, 720, 540, 616, 640, 714, 1280, 802, 900, 480, 800, 960, 529, 540, 960, 717, 640, 629, 479, 793, 635, 931, 1280, 1562, 960, 640, 778, 403, 600, 800, 640, 519, 540, 480, 384, 720, 713, 960, 405, 806, 720, 798, 1080, 480, 720, 720, 768, 534, 512, 640, 540, 480, 540, 540, 540, 655, 960, 960, 635, 542, 788, 640, 786, 405, 240, 479, 560, 540, 572, 640, 540, 720, 640, 536, 563, 720, 450, 621, 510, 530, 480, 1280, 720, 899, 440, 640, 438, 512, 540, 479, 960, 540, 480, 480, 423, 700, 465, 960, 1280, 720, 482, 800, 556, 540, 960, 720, 540, 960, 479, 653, 563, 640, 719, 512, 599, 643, 960, 1281, 747, 960, 638, 589, 479, 407, 520, 621, 853, 798, 540, 697, 960, 331, 540, 720, 787, 720, 720, 640, 986, 605, 640, 674, 900, 720, 479, 293, 448, 830, 552, 540, 850, 961, 538, 874, 394, 1280, 540, 540, 960, 720, 800, 572, 810, 349, 1080, 1078, 584, 477, 667, 622, 819, 960, 557, 1082, 610, 655, 405, 681, 467, 540, 430, 510, 900, 459, 360, 761, 514, 487, 900, 1094, 540, 959, 763, 540, 599, 454, 540, 540, 540, 720, 429, 425, 480, 540, 960, 800, 405, 510, 405, 960, 719, 640, 785, 540, 720, 635, 960, 476, 603, 540, 900, 798, 625, 1080, 720, 957, 471, 960, 565, 540, 576, 483, 391, 960, 852, 540, 479, 529, 899, 1005, 634, 882, 960, 786, 520, 506, 466, 720, 640, 588, 654, 540, 530, 470, 405, 720, 840, 720, 486, 720, 960, 958, 751, 720, 640, 776, 540, 640, 900, 618, 540, 960, 959, 1536, 640, 853, 960, 631, 640, 332, 540, 664, 1139, 540, 960, 812, 960, 720, 408, 431, 789, 720, 900, 640, 720, 674, 720, 960, 355, 603, 479, 646, 720, 720, 615, 405, 900, 853, 534, 476, 828, 1281, 444, 720, 540, 507, 960, 900, 540, 899, 960, 640, 480, 720, 720, 1275, 631, 900, 537, 714, 405, 702, 540, 720, 540, 960, 711, 720, 720, 800, 720, 540, 1163, 273, 540, 1280, 960, 537, 640, 584, 637, 398, 404, 1137, 877, 720, 1080, 540, 532, 324, 900, 960, 638, 960, 331, 710, 540, 638, 540, 570, 1080, 542, 1032, 597, 1281, 540, 543, 853, 690, 540, 858, 1018, 1080, 711, 533, 1562, 628, 1079, 613, 899, 1280, 443, 640, 540, 798, 1280, 404, 540, 720, 540, 914, 390, 479, 750, 480, 959, 572, 1046, 698, 540, 960, 1441, 960, 540, 540, 1570, 540, 540, 520, 618, 540, 480, 479, 540, 1280, 405, 720, 686, 900, 650, 486, 960, 750, 720, 800, 1067, 510, 540, 405, 480, 540, 1279, 590, 426, 800, 930, 540, 427, 1123, 544, 800, 405, 365, 622, 1944, 1272, 540, 693, 780, 339, 405, 450, 960, 480, 740, 540, 720, 405, 530, 640, 540, 540, 720, 480, 479, 540, 510, 540, 806, 652, 485, 499, 885, 720, 528, 1280, 540, 1632, 540, 645, 540, 332, 640, 510, 720, 720, 769, 632, 571, 1280, 960, 720, 1148, 737, 480, 1280, 769, 719, 640, 624, 402, 965, 479, 1079, 720, 960, 405, 1280, 678, 589, 960, 470, 720, 540, 689, 1920, 540, 960, 480, 1184, 1079, 405, 960, 900, 595, 512, 540, 926, 997, 658, 405, 540, 720, 897, 480, 540, 511, 405, 619, 1600, 540, 936, 720, 639, 640, 960, 720, 540, 627, 719, 1280, 900, 1156, 632, 640, 698, 1280, 900, 540, 540, 737, 638, 503, 478, 958, 405, 480, 960, 662, 791, 1278, 960, 540, 1280, 767, 540, 540, 720, 786, 800, 404, 793, 640, 540, 960, 853, 531, 404, 480, 528, 1551, 540, 720, 540, 958, 966, 1280, 514, 775, 461, 1024, 780, 960, 405, 455, 534, 640, 540, 559, 526, 1560, 443, 540, 530, 746, 1087, 1600, 540, 677, 540, 527, 457, 405, 720, 1280, 1280, 480, 960, 720, 480, 741, 640, 640, 720, 405, 540, 800, 720, 480, 1280, 720, 478, 540, 1077, 1280, 960, 405, 720, 496, 540, 540, 615, 744, 405, 711, 720, 480, 540, 540, 640, 540, 434, 540, 960, 720, 926, 480, 640, 430, 751, 706, 899, 477, 632, 540, 960, 584, 571, 720, 728, 1600, 465, 620, 1280, 629, 642, 503, 540, 655, 540, 806, 405, 382, 619, 403, 479, 853, 800, 540, 591, 720, 765, 2048, 672, 529, 960, 480, 467, 480, 688, 720, 720, 504, 405, 405, 605, 540, 1170, 446, 405, 600, 1280, 535, 672, 360, 480, 540, 720, 405, 877, 600, 1281, 540, 559, 900, 720, 480, 388, 686, 720, 585, 760, 426, 1519, 540, 540, 960, 720, 612, 790, 586, 900, 540, 480, 540, 600, 405, 608, 960, 404, 405, 573, 479, 360, 640, 480, 626, 426, 720, 2048, 778, 452, 640, 540, 970, 362, 960, 948, 872, 720, 1257, 450, 960, 432, 900, 720, 492, 418, 1536, 800, 960, 713, 540, 1597, 720, 540, 960, 513, 405, 1080, 2048, 591, 1280, 720, 479, 540, 444, 628, 2340, 960, 540, 889, 540, 405, 529, 405, 799, 1562, 480, 1301, 577, 720, 540, 720, 518, 882, 592, 960, 849, 540, 800, 720, 899, 660, 1081, 480, 640, 960, 720, 638, 540, 557, 617, 658, 540, 1278, 540, 793, 620, 798, 960, 467, 720, 540, 1079, 395, 378, 800, 540, 404, 468, 638, 720, 960, 1280, 540, 1280, 428, 405, 720, 1280, 540, 405, 1278, 960, 590, 478, 720, 540, 761, 421, 1024, 540, 960, 636, 540, 555, 466, 331, 720, 480, 1080, 504, 448, 360, 694, 542, 800, 759, 623, 405, 360, 455, 960, 720, 543, 680, 960, 720, 713, 637, 540, 699, 614, 480, 480, 548, 517, 936, 531, 720, 556, 1560, 1080, 717, 405, 478, 328, 480, 900, 480, 540, 484, 1280, 520, 490, 479, 981, 755, 640, 895, 944, 853, 582, 900, 800, 960, 479, 900, 1280, 480, 1560, 407, 959, 480, 640, 800, 623, 412, 540, 552, 479, 488, 479, 591, 720, 600, 960, 640, 540, 960, 617, 540, 608, 625, 568, 480, 802, 800, 765, 791, 916, 754, 405, 964, 463, 960, 448, 720, 537, 604, 960, 1137, 405, 640, 463, 556, 453, 1080, 540, 739, 640, 652, 1280, 660, 509, 960, 540, 540, 925, 720, 567, 540, 455, 653, 720, 645, 1098, 1152, 1024, 771, 466, 365, 959, 733, 540, 960, 1280, 960, 540, 720, 426, 540, 422, 540, 626, 480, 960, 590, 720, 540, 900, 1058, 960, 720, 637, 608, 720, 521, 478, 433, 821, 720, 759, 540, 510, 589, 565, 816, 640, 431, 540, 640, 405, 510, 720, 853, 1080, 720, 464, 540, 622, 554, 665, 540, 863, 702, 531, 779, 810, 960, 1280, 1114, 405, 514, 881, 640, 358, 496, 866, 701, 900, 479, 422, 900, 544, 1079, 640, 405, 539, 540, 540, 1280, 540, 540, 720, 884, 1280, 332, 405, 649, 602, 640, 640, 405, 466, 768, 480, 720, 960, 666, 718, 540, 616, 558, 548, 800, 1280, 978, 479, 539, 720, 964, 1280, 540, 540, 507, 540, 540, 960, 758, 817, 653, 404, 426, 507, 655, 960, 571, 698, 638, 1080, 960, 652, 480, 644, 629, 540, 479, 1059, 640, 480, 958, 429, 480, 699, 960, 720, 1080, 720, 710, 1029, 1170, 682, 640, 542, 720, 540, 486, 960, 825, 540, 543, 540, 853, 540, 536, 640, 539, 509, 720, 960, 539, 581, 640, 480, 960, 1080, 480, 431, 479, 605, 540, 648, 647, 642, 720, 457, 958, 1280, 1008, 539, 540, 720, 645, 703, 540, 619, 403, 798, 1080, 1280, 480, 602, 849, 584, 577, 960, 480, 589, 359, 960, 800, 1280, 793, 720, 1030, 566, 741, 729, 787, 621, 638, 640, 529, 516, 627, 540, 704, 640, 720, 540, 360, 960, 637, 624, 540, 428, 800, 960, 438, 360, 731, 742, 1079, 960, 659, 378, 666, 720, 392, 1105, 458, 580, 530, 480, 499, 853, 515, 960, 661, 1280, 478, 559, 720, 936, 959, 720, 720, 1195, 720, 402, 540, 640, 853, 540, 530, 540, 811, 720, 640, 700, 540, 405, 426, 960, 540, 540, 960, 872, 484, 533, 872, 752, 960, 384, 1024, 623, 540, 378, 375, 504, 540, 800, 633, 720, 480, 499, 647, 643, 800, 539, 655, 439, 652, 800, 772, 878, 481, 942, 960, 547, 332, 720, 640, 720, 960, 696, 1080, 480, 720, 332, 405, 617, 540, 1080, 641, 900, 1217, 958, 480, 900, 540, 328, 540, 720, 960, 800, 610, 450, 520, 808, 589, 480, 388, 800, 743, 1562, 480, 1425, 616, 480, 640, 469, 900, 720, 907, 567, 720, 739, 510, 1137, 720, 540, 810, 800, 480, 990, 613, 405, 479, 960, 454, 720, 480, 853, 667, 750, 2048, 720, 393, 540, 720, 433, 776, 573, 400, 960, 426, 720, 575, 540, 900, 936, 540, 1080, 720, 540, 581, 540, 952, 614, 1078, 426, 540, 540, 480, 644, 554, 640, 1280, 891, 1280, 720, 720, 720, 605, 1309, 960, 960, 480, 709, 559, 324, 900, 483, 960, 497, 640, 960, 540, 600, 960, 1280, 958, 771, 900, 539, 937, 462, 626, 880, 963, 476, 720, 1280, 405, 540, 498, 694, 568, 720, 540, 557, 960, 640, 720, 960, 573, 476, 960, 1599, 540, 795, 730, 960, 480, 720, 621, 1082, 540, 960, 960, 521, 660, 801, 640, 540, 720, 1080, 496, 960, 480, 1280, 1080, 900, 1280, 900, 480, 405, 1080, 478, 720, 960, 540, 637, 540, 720, 333, 740, 960, 895, 623, 540, 480, 853, 664, 540, 1194, 540, 960, 720, 485, 540, 960, 720, 405, 960, 418, 540, 384, 782, 516, 540, 640, 725, 420, 480, 786, 720, 444, 622, 426, 624, 480, 900, 640, 507, 752, 900, 959, 1280, 1080, 640, 521, 459, 640, 662, 896, 1281, 543, 755, 960, 800, 720, 640, 1280, 720, 640, 720, 640, 720, 640, 495, 1084, 1481, 628, 797, 540, 789, 642, 803, 960, 540, 720, 713, 324, 480, 800, 559, 536, 651, 540, 720, 720, 720, 455, 1280, 601, 568, 720, 952, 729, 480, 585, 856, 1143, 720, 539, 710, 1560, 426, 1071, 520, 405, 480, 426, 645, 540, 630, 405, 803, 405, 377, 659, 621, 1082, 720, 800, 305, 406, 480, 479, 446, 822, 341, 522, 960, 610, 492, 720, 540, 649, 480, 640, 408, 900, 431, 1280, 472, 720, 540, 640, 1278, 899, 512, 595, 672, 732, 405, 832, 447, 529, 540, 761, 621, 800, 405, 1280, 717, 538, 610, 640, 1155, 540, 796, 309, 867, 658, 540, 483, 591, 2048, 758, 540, 540, 760, 358, 645, 853, 958, 448, 1280, 960, 1280, 405, 900, 1140, 309, 640, 405, 640, 529, 720, 480, 720, 540, 900, 926, 540, 670, 462, 893, 814, 1280, 620, 514, 540, 510, 478, 405, 656, 540, 438, 480, 800, 661, 527, 540, 478, 472, 360, 1200, 757, 1600, 480, 445, 480, 430, 751, 662, 432, 1597, 960, 838, 892, 720, 405, 540, 1280, 425, 426, 478, 480, 480, 540, 343, 530, 720, 640, 511, 822, 426, 900, 960, 540, 538, 640, 960, 711, 541, 643, 720, 498, 540, 808, 720, 720, 900, 428, 720, 640, 540, 640, 540, 641, 720, 900, 488, 635, 900, 960, 962, 824, 960, 899, 720, 664, 479, 757, 583, 767, 537, 540, 596, 480, 960, 800, 800, 590, 436, 800, 466, 423, 540, 540, 656, 586, 800, 720, 618, 405, 793, 640, 795, 1280, 960, 806, 500, 961, 405, 720, 540, 761, 405, 613, 648, 747, 513, 770, 720, 1080, 405, 720, 720, 549, 720, 540, 720, 1562, 640, 1280, 900, 857, 600, 498, 405, 540, 958, 769, 495, 960, 438, 530, 853, 902, 1560, 453, 535, 540, 1280, 800, 478, 1599, 540, 900, 800, 1079, 540, 1279, 958, 480, 480, 852, 540, 503, 1388, 960, 480, 897, 429, 540, 718, 579, 768, 540, 960, 800, 480, 540, 647, 720, 757, 2048, 640, 1017, 1034, 960, 853, 540, 704, 720, 900, 477, 405, 599, 540, 720, 903, 640, 546, 405, 480, 640, 649, 960, 540, 640, 1560, 900, 539, 1080, 480, 960, 540, 960, 615, 1600, 480, 768, 359, 530, 405, 540, 520, 480, 497, 1200, 627, 565, 720, 766, 1479, 426, 520, 404, 540, 480, 857, 402, 1278, 405, 592, 532, 1152, 640, 960, 720, 832, 405, 720, 607, 719, 642, 649, 654, 480, 540, 243, 661, 1280, 480, 720, 486, 644, 522, 477, 957, 730, 480, 648, 405, 1279, 479, 995, 1039, 960, 589, 720, 405, 1280, 960, 720, 639, 601, 640, 832, 668, 646, 540, 960, 405, 1280, 625, 604, 405, 480, 499, 640, 1137, 540, 480, 720, 330, 628, 640, 540, 448, 405, 480, 796, 720, 959, 900, 616, 607, 756, 861, 450, 480, 800, 676, 856, 900, 514, 1280, 742, 640, 694, 640, 565, 406, 786, 522, 540, 1104, 800, 634, 637, 540, 716, 800, 685, 626, 480, 813, 718, 454, 741, 540, 470, 634, 727, 307, 480, 480, 825, 540, 640, 959, 530, 720, 823]}, {\"type\": \"histogram\", \"x\": [640, 720, 720, 720, 720, 720, 720, 640, 640, 720, 640, 720, 720, 720, 720, 640, 720, 640, 640, 640, 640, 720, 640, 720, 640, 720, 640, 720, 640, 720, 720, 720, 720, 720, 640, 720, 720, 720, 720, 640, 640, 640, 640, 640, 720, 720, 640, 720, 1600, 720, 720, 640, 720, 720, 720, 640, 720, 720, 960, 720, 893, 720, 640, 720, 720, 720, 720, 640, 720, 1096, 720, 640, 720, 720, 720, 640, 720, 720, 720, 640, 720, 640, 720, 640, 640, 720, 640, 640, 720, 640, 640, 720, 720, 720, 640, 720, 640, 720, 640, 720, 640, 720, 640, 720, 2048, 720, 720, 720, 720, 640, 720, 960, 720, 720, 720, 720, 720, 720, 720, 720, 720, 720, 720, 640, 720, 720, 640, 720, 720, 720, 640, 720, 720, 720, 720, 720, 720, 640, 720, 720, 720, 720, 720, 640, 640, 720, 1600, 640, 640, 640, 640, 732, 720, 640, 640, 720, 640, 720, 640, 640, 640, 720, 640, 720, 640, 720, 720, 720, 640, 720, 720, 720, 720, 720, 640, 720, 720, 720, 640, 720, 720, 720, 720, 790, 720, 466, 640, 720, 720, 720, 602, 720, 720, 720, 640, 720, 1010, 720, 720, 720, 720, 720, 720, 640, 640, 720, 720, 640, 720, 640, 720, 720, 640, 720, 640, 720, 720, 640, 1632, 720, 640, 720, 640, 720, 640, 720, 640, 640, 720, 720, 720, 720, 720, 640, 720, 640, 720, 720, 720, 720, 720, 720, 960, 720, 720, 720, 720, 720, 640, 720, 720, 720, 640, 720, 720, 640, 720, 720, 720, 640, 640, 640, 720, 640, 640, 720, 640, 720, 640, 720, 720, 640, 720, 720, 720, 720, 720, 720, 640, 720, 640, 720, 720, 640, 720, 720, 720, 720, 720, 720, 720, 720, 720, 720, 593, 640, 720, 720, 720, 867, 640, 720, 640, 640, 720, 640, 640, 720, 640, 720, 640, 720, 640, 720, 720, 720, 720, 720, 720, 640, 640, 720, 720, 720, 640, 640, 640, 640, 640, 640, 640, 640, 640, 640, 720, 640, 640, 640, 640, 720, 640, 640, 640, 640, 720, 640, 640, 640, 640, 720, 640, 720, 640, 720, 720, 640, 720, 720, 720, 720, 720, 640, 720, 720, 720, 1080, 720, 640, 640, 640, 640, 720, 720, 640, 720, 640, 768, 640, 640, 720, 640, 720, 640, 640, 720, 720, 720, 720, 720, 720, 720, 640, 720, 720, 720, 640, 640, 720, 640, 640, 640, 640, 640, 1280, 1280, 720, 640, 720, 720, 720, 720, 640, 720, 640, 640, 720, 720, 720, 720, 720, 720, 720, 720, 720, 640, 1080, 720, 720, 720, 720, 848, 640, 720, 720, 640, 640, 640, 720, 720, 720, 720, 720, 640, 640, 720, 720, 720, 720, 1280, 720, 720, 720, 640, 640, 640, 720, 720, 720, 720, 720, 720, 720, 540, 1200, 720, 720, 720, 720, 640, 640, 640, 640, 640, 640, 720, 640, 640, 720, 1186, 640, 640, 960, 604, 720, 720, 640, 720, 640, 720, 720, 720, 640, 720, 720, 720, 720, 720, 640, 534, 720, 720, 720, 720, 640, 640, 720, 720, 640, 720, 720, 720, 640, 640, 720, 720, 640, 720, 720, 720, 720, 720, 720, 720, 640, 640, 640, 720, 720, 720, 640, 720, 720, 640, 720, 640, 720, 720, 640, 640, 720, 720, 720, 720, 720, 640, 720, 720, 640, 640, 720, 720, 640, 720, 640, 640, 720, 720, 720, 720, 720, 640, 640, 720, 640, 640, 720, 720, 720, 720, 640, 640, 640, 640, 640, 640, 720, 720, 640, 720, 720, 640, 720, 720, 720, 720, 640, 720, 640, 720, 720, 1024, 640, 768, 640, 720, 720, 720, 720, 720, 640, 720, 720, 720, 640, 640, 640, 640, 720, 320, 720, 640, 720, 720, 640, 720, 720, 640, 640, 720, 720, 600, 640, 720, 720, 640, 720, 720, 720, 640, 640, 640, 640, 720, 720, 720, 720, 720, 720, 640, 640, 640, 720, 720, 720, 720, 640, 640, 720, 720, 720, 720, 720, 720, 720, 640, 640, 720, 720, 720, 640, 720, 720, 720, 720, 640, 720, 720, 720, 593, 640, 640, 640, 720, 720, 720, 720, 720, 720, 640, 720, 720, 422, 720, 640, 640, 640, 720, 720, 720, 720, 720, 720, 720, 720, 720, 640, 720, 720, 640, 720, 720, 720, 720, 720, 640, 640, 640, 590, 720, 720, 640, 640, 640, 960, 640, 720, 640, 720, 720, 640, 720, 720, 720, 720, 720, 640, 720, 640, 640, 640, 720, 720, 720, 640, 720, 720, 640, 720, 640, 640, 720, 720, 720, 720, 720, 640, 640, 720, 1440, 640, 720, 720, 720, 720, 720, 640, 720, 720, 720, 640, 720, 640, 720, 720, 720, 640, 640, 720, 720, 640, 720, 640, 720, 720, 640, 720, 720, 720, 640, 720, 640, 720, 720, 720, 640, 720, 640, 640, 720, 736, 720, 720, 640, 488, 960, 720, 640, 640, 720, 720, 720, 720, 720, 720, 720, 720, 720, 720, 640, 640, 720, 640, 720, 640, 720, 720, 720, 2048, 640, 640, 720, 960, 640, 720, 720, 640, 640, 720, 720, 720, 720, 720, 720, 720, 640, 720, 720, 640, 720, 720, 720, 720, 500, 640, 720, 640, 720, 960, 640, 720, 720, 640, 720, 720, 720, 720, 720, 720, 720, 640, 720, 720, 720, 720, 720, 640, 720, 720, 720, 720, 640, 720, 720, 720, 720, 640, 720, 720, 720, 720, 640, 720, 720, 640, 720, 720, 640, 499, 960, 1218, 720, 720, 640, 640, 640, 640, 720, 640, 720, 720, 1080, 720, 720, 432, 720, 720, 720, 720, 720, 720, 720, 640, 720, 640, 720, 720, 477, 640, 720, 720, 506, 640, 640, 720, 640, 640, 720, 720, 720, 720, 640, 720, 640, 720, 720, 640, 640, 720, 640, 720, 720, 720, 720, 720, 720, 720, 720, 720, 640, 720, 640, 720, 640, 720, 720, 2048, 720, 720, 720, 720, 720, 720, 720, 640, 720, 640, 720, 720, 720, 720, 960, 720, 720, 640, 720, 720, 500, 720, 640, 1060, 720, 720, 720, 720, 720, 720, 720, 640, 640, 720, 720, 640, 720, 720, 1200, 720, 550, 640, 1296, 640, 720, 640, 1040, 452, 720, 720, 640, 640, 640, 720, 720, 720, 720, 640, 720, 720, 720, 640, 720, 720, 720, 720, 640, 600, 640, 640, 720, 720, 720, 720, 720, 1224, 720, 720, 720, 500, 640, 720, 720, 720, 720, 640, 720, 720, 720, 720, 2040, 720, 720, 875, 640, 720, 640, 640, 720, 720, 720, 720, 720, 720, 720, 720, 640, 640, 720, 720, 720, 720, 720, 1080, 720, 720, 652, 720, 720, 720, 720, 720, 640, 720, 720, 640, 720, 720, 720, 720, 1280, 720, 720, 720, 640, 720, 640, 1200, 720, 720, 720, 640, 640, 720, 720, 720, 720, 720, 720, 720, 867, 640, 640, 640, 720, 720, 720, 720, 1075, 640, 720, 720, 720, 720, 640, 720, 640, 720, 720, 720, 720, 960, 640, 720, 720, 720, 720, 640, 720, 640, 640, 720, 720, 640, 640, 720, 640, 720, 720, 720, 720, 720, 720, 640, 720, 720, 640, 720, 1024, 640, 720, 720, 720, 640, 640, 720, 720, 720, 720, 720, 720, 720, 640, 720, 720, 720, 640, 720, 720, 640, 720, 720, 720, 720, 720, 720, 720, 720, 720, 640, 640, 720, 720, 720, 640, 720, 640, 720, 960, 720, 720, 720, 720, 720, 720, 720, 640, 720, 720, 720, 720, 720, 720, 960, 720, 720, 720, 640, 720, 650, 720, 720, 720, 640, 640, 640, 640, 720, 640, 640, 720, 640, 720, 720, 720, 640, 720, 720, 720, 640, 640, 720, 640, 640, 720, 720, 640, 720, 1080, 720, 720, 640, 720, 720, 640, 640, 720, 720, 640, 640, 1536, 640, 720, 720, 720, 640, 720, 720, 720, 720, 720, 720, 720, 640, 720, 720, 720, 720, 600, 720, 720, 640, 640, 720, 720, 720, 720, 640, 640, 720, 720, 720, 720, 720, 640, 720, 640, 720, 720, 720, 640, 720, 720, 720, 720, 720, 640, 720, 640, 720, 720, 640, 720, 640, 720, 640, 720, 720, 720, 720, 720, 640, 640, 720, 640, 640, 720, 2048, 720, 640, 640, 720, 720, 640, 720, 720, 640, 720, 720, 600, 720, 720, 720, 720, 720, 640, 2048, 640, 720, 720, 720, 720, 720, 720, 720, 640, 720, 720, 1536, 640, 720, 720, 720, 720, 640, 640, 1080, 720, 720, 720, 720, 720, 720, 720, 640, 720, 640, 1953, 640, 720, 720, 720, 640, 720, 720, 720, 640, 720, 640, 720, 720, 640, 720, 720, 640, 720, 960, 640, 720, 720, 640, 640, 720, 720, 720, 640, 640, 640, 720, 720, 720, 720, 720, 640, 720, 640, 720, 720, 720, 640, 720, 720, 720, 720, 590, 640, 720, 720, 720, 720, 720, 720, 720, 640, 720, 720, 720, 640, 640, 747, 720, 720, 640, 720, 640, 720, 720, 720, 640, 720, 640, 640, 640, 720, 720, 640, 640, 640, 720, 640, 640, 720, 720, 720, 640, 720, 720, 640, 640, 720, 640, 720, 640, 720, 640, 720, 720, 720, 720, 720, 720, 720, 720, 720, 720, 720, 720, 720, 640, 720, 720, 1113, 720, 640, 640, 720, 720, 640, 720, 720, 640, 640, 720, 640, 720, 720, 720, 720, 640, 720, 720, 720, 720, 640, 640, 640, 640, 720, 720, 720, 640, 720, 640, 720, 800, 720, 640, 720, 720, 720, 720, 640, 640, 640, 640, 640, 640, 720, 640, 720, 720, 720, 720, 640, 720, 640, 720, 720, 640, 720, 640, 720, 430, 720, 720, 604, 720, 720, 640, 640, 640, 720, 640, 640, 720, 720, 720, 640, 720, 640, 720, 720, 640, 720, 640, 720, 864, 768, 640, 640, 640, 720, 720, 720, 720, 720, 720, 720, 720, 640, 720, 640, 720, 640, 720, 720, 720, 720, 720, 720, 720, 720, 720, 640, 640, 720, 720, 640, 640, 640, 720, 640, 720, 720, 720, 720, 640, 640, 720, 720, 640, 720, 720, 720, 640, 720, 720, 640, 720, 640, 720, 640, 720, 720, 720, 720, 640, 720, 720, 720, 720, 720, 720, 720, 640, 640, 640, 720, 720, 720, 720, 391, 720, 720, 720, 640, 720, 720, 720, 720, 960, 720, 720, 720, 640, 720, 720, 720, 640, 720, 640, 640, 720, 720, 1024, 720, 720, 720, 640, 720, 720, 640, 720, 720, 640, 720, 720, 720, 720, 720, 720, 720, 720, 720, 640, 720, 720, 720, 720, 640, 640, 720, 640, 640, 640, 720, 640, 640, 720, 720, 720, 640, 720, 640, 640, 720, 720, 720, 640, 640, 720, 720, 640, 640, 720, 720, 720, 720, 640, 720, 540, 640, 640, 720, 720, 720, 640, 720, 720, 720, 720, 720, 640, 720, 720, 640, 720, 720, 720, 720, 720, 640, 640, 720, 720, 720, 720, 640, 720, 640, 720, 640, 640, 720, 720, 640, 720, 720, 720, 720, 720, 720, 640, 720, 720, 640, 720, 640, 720, 720, 640, 720, 720, 640, 476, 720, 720, 720, 640, 720, 640, 720, 640, 720, 640, 640, 640, 720, 640, 640, 640, 640, 720, 640, 640, 720, 640, 640, 960, 720, 720, 720, 640, 720, 720, 630, 640, 720, 640, 640, 640, 720, 720, 720, 640, 720, 640, 720, 640, 720, 720, 720, 720, 640, 640, 640, 720, 720, 640, 720, 720, 640, 720, 720, 640, 720, 720, 720, 720, 675, 720, 640, 640, 720, 720, 720, 640, 720, 640, 640, 720, 720, 640, 720, 720, 720, 720, 640, 720, 800, 640, 720, 720, 640, 720, 720, 720, 720, 500, 720, 720, 640, 640, 720, 640, 720, 640, 640, 640, 720, 720, 640, 640, 640, 720, 720, 720, 640, 720, 640, 720, 720, 640, 720, 720, 640, 720, 720, 720, 500, 720, 640, 720, 720, 640, 720, 720, 640, 640, 720, 720, 640, 720, 720, 720, 640, 640, 600, 720, 640, 720, 720, 720, 640, 720, 720, 720, 720, 640, 720, 640, 640, 720, 720, 720, 640, 720, 640, 640, 640, 720, 720, 640, 640, 640, 720, 640, 720, 720, 1280, 720, 720, 720, 640, 640, 640, 1365, 720, 720, 720, 720, 720, 640, 640, 720, 720, 640, 720, 720, 720, 720, 720, 720, 720, 720, 720, 640, 720, 640, 640, 720, 640, 720, 720, 720, 640, 768, 640, 720, 720, 720, 720, 720, 720, 640, 720, 720, 720, 640, 640, 720, 720, 720, 811, 720, 640, 640, 640, 720, 640, 720, 720, 720, 640, 720, 720, 720, 720, 640, 720, 720, 720, 720, 594, 720, 720, 720, 640, 640, 720, 720, 640, 720, 640, 720, 720, 640, 720, 720, 720, 720, 640, 640, 720, 720, 720, 640, 720, 720, 576, 640, 720, 720, 640, 640, 720, 720, 720, 720, 640, 720, 720, 720, 720, 720, 720, 720, 720, 720, 720, 960, 720, 720, 640, 720, 720, 640, 888, 720, 720, 640, 720, 720, 640, 640, 720, 720, 720, 720, 720, 720, 720, 720, 720, 720, 720, 640, 720, 720, 720, 720, 720, 640, 640, 720, 720, 640, 720, 640, 640, 640, 720, 640, 720, 640, 640, 720, 720, 640, 720, 720, 640, 720, 720, 640, 640, 720, 720, 720, 720, 720, 640, 720, 640, 720, 720, 640, 720, 640, 720, 640, 604, 720, 720, 640, 640, 720, 640, 640, 640, 720, 720, 720, 720, 432, 640, 640, 720, 720, 640, 720, 720, 720, 720, 720, 720, 640, 640, 720, 640, 640, 720, 720, 640, 720, 720, 720, 720, 720, 640, 720, 640, 720, 720, 640, 640, 720, 640, 720, 720, 720, 554, 640, 640, 720, 720, 640, 720, 596, 720, 720, 720, 640, 720, 640, 720, 640, 640, 720, 720, 640, 720, 640, 640, 720, 720, 720, 720, 720, 720, 640, 720, 720, 720, 720, 640, 720, 720, 640, 640, 720, 720, 640, 640, 640, 720, 720, 720, 720, 640, 640, 720, 720, 640, 640, 720, 720, 720, 640, 640, 1536, 640, 720, 720, 640, 640, 720, 640, 720, 640, 720, 720, 720, 720, 720, 720, 378, 640, 720, 640, 640, 720, 720, 720, 720, 720, 640, 720, 640, 640, 720, 720, 720, 640, 720, 720, 720, 720, 640, 640, 720, 640, 640, 640, 640, 640, 720, 640, 720, 640, 1600, 640, 720, 640, 720, 720, 640, 720, 640, 720, 720, 720, 720, 720, 720, 720, 720, 720, 640, 640, 720, 720, 720, 720, 640, 720, 720, 640, 720, 720, 640, 720, 720, 720, 720, 640, 720, 720, 720, 640, 720, 720, 720, 640, 720, 720, 720, 640, 720, 640, 720, 640, 720, 720, 720, 720, 720, 640, 720, 720, 720, 720, 720, 720, 720, 640, 720, 640, 640, 720, 720, 720, 720, 720, 720, 640, 640, 960, 720, 640, 640, 640, 720, 720, 640, 640, 597, 720, 640, 720, 640, 640, 640, 720, 720, 720, 640, 640, 720, 720, 720, 720, 720, 640, 720, 640, 720, 720, 720, 720, 720, 720, 640, 640, 720, 720, 720, 720, 640, 720, 720, 720, 720, 720, 720, 720, 640, 640, 720, 720, 640, 720, 640, 640, 720, 604, 640, 720, 850, 640, 720, 899, 720, 720, 640, 720, 720, 720, 720, 640, 720, 720, 720, 640, 640, 720, 640, 640, 640, 720, 720, 640, 720, 720, 720, 640, 720, 720, 640, 720, 640, 1536, 640, 720, 1838, 720, 640, 720, 720, 720, 720, 720, 720, 640, 720, 720, 600, 640, 720, 720, 640, 640, 640, 720, 720, 640, 720, 720, 720, 720, 720, 720, 720, 720, 640, 1200, 640, 1024, 640, 720, 720, 720, 720, 720, 720, 1600, 640, 640, 960, 640, 720, 640, 720, 720, 720, 720, 720, 640, 720, 720, 640, 720, 864, 640, 720, 960, 640, 720, 720, 640, 720, 720, 640, 640, 640, 720, 720, 640, 720, 720, 720, 640, 640, 720, 720, 640, 720, 640, 720, 720, 720, 720, 720, 720, 640, 640, 720, 720, 720, 720, 720, 640, 897, 640, 640, 720, 640, 720, 720, 720, 720, 720, 400, 720, 720, 640, 640, 640, 720, 640, 960, 720, 720, 640, 720, 720, 720, 640, 640, 720, 720, 720, 640, 640, 640, 720, 720, 640, 640, 640, 720, 720, 640, 720, 720, 640, 960, 640, 640, 720, 640, 720, 720, 640, 640, 720, 640, 720, 640, 640, 640, 640, 640, 720, 720, 720, 720, 720, 640, 720, 720, 720, 640, 640, 750, 720, 640, 720, 720, 720, 640]}],\n",
              "                        {\"barmode\": \"stack\", \"template\": {\"data\": {\"bar\": [{\"error_x\": {\"color\": \"#2a3f5f\"}, \"error_y\": {\"color\": \"#2a3f5f\"}, \"marker\": {\"line\": {\"color\": \"#E5ECF6\", \"width\": 0.5}}, \"type\": \"bar\"}], \"barpolar\": [{\"marker\": {\"line\": {\"color\": \"#E5ECF6\", \"width\": 0.5}}, \"type\": \"barpolar\"}], \"carpet\": [{\"aaxis\": {\"endlinecolor\": \"#2a3f5f\", \"gridcolor\": \"white\", \"linecolor\": \"white\", \"minorgridcolor\": \"white\", \"startlinecolor\": \"#2a3f5f\"}, \"baxis\": {\"endlinecolor\": \"#2a3f5f\", \"gridcolor\": \"white\", \"linecolor\": \"white\", \"minorgridcolor\": \"white\", \"startlinecolor\": \"#2a3f5f\"}, \"type\": \"carpet\"}], \"choropleth\": [{\"colorbar\": {\"outlinewidth\": 0, \"ticks\": \"\"}, \"type\": \"choropleth\"}], \"contour\": [{\"colorbar\": {\"outlinewidth\": 0, \"ticks\": \"\"}, \"colorscale\": [[0.0, \"#0d0887\"], [0.1111111111111111, \"#46039f\"], [0.2222222222222222, \"#7201a8\"], [0.3333333333333333, \"#9c179e\"], [0.4444444444444444, \"#bd3786\"], [0.5555555555555556, \"#d8576b\"], [0.6666666666666666, \"#ed7953\"], [0.7777777777777778, \"#fb9f3a\"], [0.8888888888888888, \"#fdca26\"], [1.0, \"#f0f921\"]], \"type\": \"contour\"}], \"contourcarpet\": [{\"colorbar\": {\"outlinewidth\": 0, \"ticks\": \"\"}, \"type\": \"contourcarpet\"}], \"heatmap\": [{\"colorbar\": {\"outlinewidth\": 0, \"ticks\": \"\"}, \"colorscale\": [[0.0, \"#0d0887\"], [0.1111111111111111, \"#46039f\"], [0.2222222222222222, \"#7201a8\"], [0.3333333333333333, \"#9c179e\"], [0.4444444444444444, \"#bd3786\"], [0.5555555555555556, \"#d8576b\"], [0.6666666666666666, \"#ed7953\"], [0.7777777777777778, \"#fb9f3a\"], [0.8888888888888888, \"#fdca26\"], [1.0, \"#f0f921\"]], \"type\": \"heatmap\"}], \"heatmapgl\": [{\"colorbar\": {\"outlinewidth\": 0, \"ticks\": \"\"}, \"colorscale\": [[0.0, \"#0d0887\"], [0.1111111111111111, \"#46039f\"], [0.2222222222222222, \"#7201a8\"], [0.3333333333333333, \"#9c179e\"], [0.4444444444444444, \"#bd3786\"], [0.5555555555555556, \"#d8576b\"], [0.6666666666666666, \"#ed7953\"], [0.7777777777777778, \"#fb9f3a\"], [0.8888888888888888, \"#fdca26\"], [1.0, \"#f0f921\"]], \"type\": \"heatmapgl\"}], \"histogram\": [{\"marker\": {\"colorbar\": {\"outlinewidth\": 0, \"ticks\": \"\"}}, \"type\": \"histogram\"}], \"histogram2d\": [{\"colorbar\": {\"outlinewidth\": 0, \"ticks\": \"\"}, \"colorscale\": [[0.0, \"#0d0887\"], [0.1111111111111111, \"#46039f\"], [0.2222222222222222, \"#7201a8\"], [0.3333333333333333, \"#9c179e\"], [0.4444444444444444, \"#bd3786\"], [0.5555555555555556, \"#d8576b\"], [0.6666666666666666, \"#ed7953\"], [0.7777777777777778, \"#fb9f3a\"], [0.8888888888888888, \"#fdca26\"], [1.0, \"#f0f921\"]], \"type\": \"histogram2d\"}], \"histogram2dcontour\": [{\"colorbar\": {\"outlinewidth\": 0, \"ticks\": \"\"}, \"colorscale\": [[0.0, \"#0d0887\"], [0.1111111111111111, \"#46039f\"], [0.2222222222222222, \"#7201a8\"], [0.3333333333333333, \"#9c179e\"], [0.4444444444444444, \"#bd3786\"], [0.5555555555555556, \"#d8576b\"], [0.6666666666666666, \"#ed7953\"], [0.7777777777777778, \"#fb9f3a\"], [0.8888888888888888, \"#fdca26\"], [1.0, \"#f0f921\"]], \"type\": \"histogram2dcontour\"}], \"mesh3d\": [{\"colorbar\": {\"outlinewidth\": 0, \"ticks\": \"\"}, \"type\": \"mesh3d\"}], \"parcoords\": [{\"line\": {\"colorbar\": {\"outlinewidth\": 0, \"ticks\": \"\"}}, \"type\": \"parcoords\"}], \"pie\": [{\"automargin\": true, \"type\": \"pie\"}], \"scatter\": [{\"marker\": {\"colorbar\": {\"outlinewidth\": 0, \"ticks\": \"\"}}, \"type\": \"scatter\"}], \"scatter3d\": [{\"line\": {\"colorbar\": {\"outlinewidth\": 0, \"ticks\": \"\"}}, \"marker\": {\"colorbar\": {\"outlinewidth\": 0, \"ticks\": \"\"}}, \"type\": \"scatter3d\"}], \"scattercarpet\": [{\"marker\": {\"colorbar\": {\"outlinewidth\": 0, \"ticks\": \"\"}}, \"type\": \"scattercarpet\"}], \"scattergeo\": [{\"marker\": {\"colorbar\": {\"outlinewidth\": 0, \"ticks\": \"\"}}, \"type\": \"scattergeo\"}], \"scattergl\": [{\"marker\": {\"colorbar\": {\"outlinewidth\": 0, \"ticks\": \"\"}}, \"type\": \"scattergl\"}], \"scattermapbox\": [{\"marker\": {\"colorbar\": {\"outlinewidth\": 0, \"ticks\": \"\"}}, \"type\": \"scattermapbox\"}], \"scatterpolar\": [{\"marker\": {\"colorbar\": {\"outlinewidth\": 0, \"ticks\": \"\"}}, \"type\": \"scatterpolar\"}], \"scatterpolargl\": [{\"marker\": {\"colorbar\": {\"outlinewidth\": 0, \"ticks\": \"\"}}, \"type\": \"scatterpolargl\"}], \"scatterternary\": [{\"marker\": {\"colorbar\": {\"outlinewidth\": 0, \"ticks\": \"\"}}, \"type\": \"scatterternary\"}], \"surface\": [{\"colorbar\": {\"outlinewidth\": 0, \"ticks\": \"\"}, \"colorscale\": [[0.0, \"#0d0887\"], [0.1111111111111111, \"#46039f\"], [0.2222222222222222, \"#7201a8\"], [0.3333333333333333, \"#9c179e\"], [0.4444444444444444, \"#bd3786\"], [0.5555555555555556, \"#d8576b\"], [0.6666666666666666, \"#ed7953\"], [0.7777777777777778, \"#fb9f3a\"], [0.8888888888888888, \"#fdca26\"], [1.0, \"#f0f921\"]], \"type\": \"surface\"}], \"table\": [{\"cells\": {\"fill\": {\"color\": \"#EBF0F8\"}, \"line\": {\"color\": \"white\"}}, \"header\": {\"fill\": {\"color\": \"#C8D4E3\"}, \"line\": {\"color\": \"white\"}}, \"type\": \"table\"}]}, \"layout\": {\"annotationdefaults\": {\"arrowcolor\": \"#2a3f5f\", \"arrowhead\": 0, \"arrowwidth\": 1}, \"coloraxis\": {\"colorbar\": {\"outlinewidth\": 0, \"ticks\": \"\"}}, \"colorscale\": {\"diverging\": [[0, \"#8e0152\"], [0.1, \"#c51b7d\"], [0.2, \"#de77ae\"], [0.3, \"#f1b6da\"], [0.4, \"#fde0ef\"], [0.5, \"#f7f7f7\"], [0.6, \"#e6f5d0\"], [0.7, \"#b8e186\"], [0.8, \"#7fbc41\"], [0.9, \"#4d9221\"], [1, \"#276419\"]], \"sequential\": [[0.0, \"#0d0887\"], [0.1111111111111111, \"#46039f\"], [0.2222222222222222, \"#7201a8\"], [0.3333333333333333, \"#9c179e\"], [0.4444444444444444, \"#bd3786\"], [0.5555555555555556, \"#d8576b\"], [0.6666666666666666, \"#ed7953\"], [0.7777777777777778, \"#fb9f3a\"], [0.8888888888888888, \"#fdca26\"], [1.0, \"#f0f921\"]], \"sequentialminus\": [[0.0, \"#0d0887\"], [0.1111111111111111, \"#46039f\"], [0.2222222222222222, \"#7201a8\"], [0.3333333333333333, \"#9c179e\"], [0.4444444444444444, \"#bd3786\"], [0.5555555555555556, \"#d8576b\"], [0.6666666666666666, \"#ed7953\"], [0.7777777777777778, \"#fb9f3a\"], [0.8888888888888888, \"#fdca26\"], [1.0, \"#f0f921\"]]}, \"colorway\": [\"#636efa\", \"#EF553B\", \"#00cc96\", \"#ab63fa\", \"#FFA15A\", \"#19d3f3\", \"#FF6692\", \"#B6E880\", \"#FF97FF\", \"#FECB52\"], \"font\": {\"color\": \"#2a3f5f\"}, \"geo\": {\"bgcolor\": \"white\", \"lakecolor\": \"white\", \"landcolor\": \"#E5ECF6\", \"showlakes\": true, \"showland\": true, \"subunitcolor\": \"white\"}, \"hoverlabel\": {\"align\": \"left\"}, \"hovermode\": \"closest\", \"mapbox\": {\"style\": \"light\"}, \"paper_bgcolor\": \"white\", \"plot_bgcolor\": \"#E5ECF6\", \"polar\": {\"angularaxis\": {\"gridcolor\": \"white\", \"linecolor\": \"white\", \"ticks\": \"\"}, \"bgcolor\": \"#E5ECF6\", \"radialaxis\": {\"gridcolor\": \"white\", \"linecolor\": \"white\", \"ticks\": \"\"}}, \"scene\": {\"xaxis\": {\"backgroundcolor\": \"#E5ECF6\", \"gridcolor\": \"white\", \"gridwidth\": 2, \"linecolor\": \"white\", \"showbackground\": true, \"ticks\": \"\", \"zerolinecolor\": \"white\"}, \"yaxis\": {\"backgroundcolor\": \"#E5ECF6\", \"gridcolor\": \"white\", \"gridwidth\": 2, \"linecolor\": \"white\", \"showbackground\": true, \"ticks\": \"\", \"zerolinecolor\": \"white\"}, \"zaxis\": {\"backgroundcolor\": \"#E5ECF6\", \"gridcolor\": \"white\", \"gridwidth\": 2, \"linecolor\": \"white\", \"showbackground\": true, \"ticks\": \"\", \"zerolinecolor\": \"white\"}}, \"shapedefaults\": {\"line\": {\"color\": \"#2a3f5f\"}}, \"ternary\": {\"aaxis\": {\"gridcolor\": \"white\", \"linecolor\": \"white\", \"ticks\": \"\"}, \"baxis\": {\"gridcolor\": \"white\", \"linecolor\": \"white\", \"ticks\": \"\"}, \"bgcolor\": \"#E5ECF6\", \"caxis\": {\"gridcolor\": \"white\", \"linecolor\": \"white\", \"ticks\": \"\"}}, \"title\": {\"x\": 0.05}, \"xaxis\": {\"automargin\": true, \"gridcolor\": \"white\", \"linecolor\": \"white\", \"ticks\": \"\", \"title\": {\"standoff\": 15}, \"zerolinecolor\": \"white\", \"zerolinewidth\": 2}, \"yaxis\": {\"automargin\": true, \"gridcolor\": \"white\", \"linecolor\": \"white\", \"ticks\": \"\", \"title\": {\"standoff\": 15}, \"zerolinecolor\": \"white\", \"zerolinewidth\": 2}}}, \"title\": {\"text\": \"Histogram of Image width & height\"}},\n",
              "                        {\"responsive\": true}\n",
              "                    ).then(function(){\n",
              "                            \n",
              "var gd = document.getElementById('899e43b5-951c-44cc-b237-6df36b117e35');\n",
              "var x = new MutationObserver(function (mutations, observer) {{\n",
              "        var display = window.getComputedStyle(gd).display;\n",
              "        if (!display || display === 'none') {{\n",
              "            console.log([gd, 'removed!']);\n",
              "            Plotly.purge(gd);\n",
              "            observer.disconnect();\n",
              "        }}\n",
              "}});\n",
              "\n",
              "// Listen for the removal of the full notebook cells\n",
              "var notebookContainer = gd.closest('#notebook-container');\n",
              "if (notebookContainer) {{\n",
              "    x.observe(notebookContainer, {childList: true});\n",
              "}}\n",
              "\n",
              "// Listen for the clearing of the current output cell\n",
              "var outputEl = gd.closest('.output');\n",
              "if (outputEl) {{\n",
              "    x.observe(outputEl, {childList: true});\n",
              "}}\n",
              "\n",
              "                        })\n",
              "                };\n",
              "                \n",
              "            </script>\n",
              "        </div>\n",
              "</body>\n",
              "</html>"
            ]
          },
          "metadata": {
            "tags": []
          }
        }
      ]
    },
    {
      "cell_type": "code",
      "metadata": {
        "colab": {
          "base_uri": "https://localhost:8080/",
          "height": 424
        },
        "id": "fZpt1Mh0s1xu",
        "outputId": "c462141e-df8f-4f49-80b9-e97ce0a21d51"
      },
      "source": [
        "img_info"
      ],
      "execution_count": null,
      "outputs": [
        {
          "output_type": "execute_result",
          "data": {
            "text/html": [
              "<div>\n",
              "<style scoped>\n",
              "    .dataframe tbody tr th:only-of-type {\n",
              "        vertical-align: middle;\n",
              "    }\n",
              "\n",
              "    .dataframe tbody tr th {\n",
              "        vertical-align: top;\n",
              "    }\n",
              "\n",
              "    .dataframe thead th {\n",
              "        text-align: right;\n",
              "    }\n",
              "</style>\n",
              "<table border=\"1\" class=\"dataframe\">\n",
              "  <thead>\n",
              "    <tr style=\"text-align: right;\">\n",
              "      <th></th>\n",
              "      <th>height</th>\n",
              "      <th>width</th>\n",
              "      <th>id</th>\n",
              "      <th>file_name</th>\n",
              "    </tr>\n",
              "  </thead>\n",
              "  <tbody>\n",
              "    <tr>\n",
              "      <th>0</th>\n",
              "      <td>694</td>\n",
              "      <td>640</td>\n",
              "      <td>0</td>\n",
              "      <td>videos(98).png</td>\n",
              "    </tr>\n",
              "    <tr>\n",
              "      <th>1</th>\n",
              "      <td>538</td>\n",
              "      <td>720</td>\n",
              "      <td>1</td>\n",
              "      <td>chappathi_img212.jpg</td>\n",
              "    </tr>\n",
              "    <tr>\n",
              "      <th>2</th>\n",
              "      <td>720</td>\n",
              "      <td>720</td>\n",
              "      <td>2</td>\n",
              "      <td>biriyani_img208.jpg</td>\n",
              "    </tr>\n",
              "    <tr>\n",
              "      <th>3</th>\n",
              "      <td>720</td>\n",
              "      <td>720</td>\n",
              "      <td>3</td>\n",
              "      <td>chappathi_img126.jpg</td>\n",
              "    </tr>\n",
              "    <tr>\n",
              "      <th>4</th>\n",
              "      <td>960</td>\n",
              "      <td>720</td>\n",
              "      <td>4</td>\n",
              "      <td>biriyani_img104.jpg</td>\n",
              "    </tr>\n",
              "    <tr>\n",
              "      <th>...</th>\n",
              "      <td>...</td>\n",
              "      <td>...</td>\n",
              "      <td>...</td>\n",
              "      <td>...</td>\n",
              "    </tr>\n",
              "    <tr>\n",
              "      <th>2652</th>\n",
              "      <td>640</td>\n",
              "      <td>640</td>\n",
              "      <td>2652</td>\n",
              "      <td>60840726_348516505804945_6433218460825681920_n...</td>\n",
              "    </tr>\n",
              "    <tr>\n",
              "      <th>2653</th>\n",
              "      <td>959</td>\n",
              "      <td>720</td>\n",
              "      <td>2653</td>\n",
              "      <td>bread_122.jpg</td>\n",
              "    </tr>\n",
              "    <tr>\n",
              "      <th>2654</th>\n",
              "      <td>530</td>\n",
              "      <td>720</td>\n",
              "      <td>2654</td>\n",
              "      <td>bread_197.jpg</td>\n",
              "    </tr>\n",
              "    <tr>\n",
              "      <th>2655</th>\n",
              "      <td>720</td>\n",
              "      <td>720</td>\n",
              "      <td>2655</td>\n",
              "      <td>idli_128.jpg</td>\n",
              "    </tr>\n",
              "    <tr>\n",
              "      <th>2656</th>\n",
              "      <td>823</td>\n",
              "      <td>640</td>\n",
              "      <td>2656</td>\n",
              "      <td>47.png</td>\n",
              "    </tr>\n",
              "  </tbody>\n",
              "</table>\n",
              "<p>2657 rows × 4 columns</p>\n",
              "</div>"
            ],
            "text/plain": [
              "      height  width    id                                          file_name\n",
              "0        694    640     0                                     videos(98).png\n",
              "1        538    720     1                               chappathi_img212.jpg\n",
              "2        720    720     2                                biriyani_img208.jpg\n",
              "3        720    720     3                               chappathi_img126.jpg\n",
              "4        960    720     4                                biriyani_img104.jpg\n",
              "...      ...    ...   ...                                                ...\n",
              "2652     640    640  2652  60840726_348516505804945_6433218460825681920_n...\n",
              "2653     959    720  2653                                      bread_122.jpg\n",
              "2654     530    720  2654                                      bread_197.jpg\n",
              "2655     720    720  2655                                       idli_128.jpg\n",
              "2656     823    640  2656                                             47.png\n",
              "\n",
              "[2657 rows x 4 columns]"
            ]
          },
          "metadata": {
            "tags": []
          },
          "execution_count": 16
        }
      ]
    },
    {
      "cell_type": "code",
      "metadata": {
        "id": "zZR4A7Lklwh0"
      },
      "source": [
        ""
      ],
      "execution_count": null,
      "outputs": []
    }
  ]
}